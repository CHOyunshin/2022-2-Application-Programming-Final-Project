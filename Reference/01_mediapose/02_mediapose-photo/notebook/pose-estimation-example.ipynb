{
 "cells": [
  {
   "cell_type": "code",
   "execution_count": 2,
   "metadata": {},
   "outputs": [],
   "source": [
    "import cv2\n",
    "import math\n",
    "import numpy as np\n",
    "import os \n",
    "image_list = os.listdir(\"../photo/\")\n",
    "import matplotlib.pyplot as plt "
   ]
  },
  {
   "cell_type": "markdown",
   "metadata": {},
   "source": [
    "이부분의 error 때문에 수동으로 리스트 만들어줌\n",
    "<https://velog.io/@yjlee4093/OpenCV-cv2.imread-에러>"
   ]
  },
  {
   "cell_type": "code",
   "execution_count": 3,
   "metadata": {},
   "outputs": [],
   "source": [
    "dir = [\"/Users/yscho/2022-2-Application-Programming-Final-Project/Reference/01_mediapose/02_mediapose-photo/photo/photo-1519316500492-7d95d2b8c462.jpg\",\n",
    "\"/Users/yscho/2022-2-Application-Programming-Final-Project/Reference/01_mediapose/02_mediapose-photo/photo/photo-1529891858519-f18aa4f6a3b0.jpg\",\n",
    "\"/Users/yscho/2022-2-Application-Programming-Final-Project/Reference/01_mediapose/02_mediapose-photo/photo/IMG_6105.png\"]"
   ]
  },
  {
   "cell_type": "code",
   "execution_count": 4,
   "metadata": {},
   "outputs": [
    {
     "name": "stdout",
     "output_type": "stream",
     "text": [
      "/Users/yscho/2022-2-Application-Programming-Final-Project/Reference/01_mediapose/02_mediapose-photo/photo/photo-1519316500492-7d95d2b8c462.jpg\n",
      "/Users/yscho/2022-2-Application-Programming-Final-Project/Reference/01_mediapose/02_mediapose-photo/photo/photo-1529891858519-f18aa4f6a3b0.jpg\n",
      "/Users/yscho/2022-2-Application-Programming-Final-Project/Reference/01_mediapose/02_mediapose-photo/photo/IMG_6105.png\n"
     ]
    }
   ],
   "source": [
    "DESIRED_HEIGHT = 480\n",
    "DESIRED_WIDTH = 480\n",
    "def resize_and_show(image):\n",
    "  h, w = image.shape[:2]\n",
    "  if h < w:\n",
    "    img = cv2.resize(image, (DESIRED_WIDTH, math.floor(h/(w/DESIRED_WIDTH))))\n",
    "  else:\n",
    "    img = cv2.resize(image, (math.floor(w/(h/DESIRED_HEIGHT)), DESIRED_HEIGHT))\n",
    "  \n",
    "# Read images with OpenCV.\n",
    "images = {name: cv2.imread(name) for name in dir}\n",
    "# Preview the images.\n",
    "for name, image in images.items():\n",
    "  print(name)   \n",
    "  resize_and_show(image)"
   ]
  },
  {
   "cell_type": "code",
   "execution_count": 5,
   "metadata": {},
   "outputs": [
    {
     "name": "stdout",
     "output_type": "stream",
     "text": [
      "Help on class Pose in module mediapipe.python.solutions.pose:\n",
      "\n",
      "class Pose(mediapipe.python.solution_base.SolutionBase)\n",
      " |  Pose(static_image_mode=False, model_complexity=1, smooth_landmarks=True, enable_segmentation=False, smooth_segmentation=True, min_detection_confidence=0.5, min_tracking_confidence=0.5)\n",
      " |  \n",
      " |  MediaPipe Pose.\n",
      " |  \n",
      " |  MediaPipe Pose processes an RGB image and returns pose landmarks on the most\n",
      " |  prominent person detected.\n",
      " |  \n",
      " |  Please refer to https://solutions.mediapipe.dev/pose#python-solution-api for\n",
      " |  usage examples.\n",
      " |  \n",
      " |  Method resolution order:\n",
      " |      Pose\n",
      " |      mediapipe.python.solution_base.SolutionBase\n",
      " |      builtins.object\n",
      " |  \n",
      " |  Methods defined here:\n",
      " |  \n",
      " |  __init__(self, static_image_mode=False, model_complexity=1, smooth_landmarks=True, enable_segmentation=False, smooth_segmentation=True, min_detection_confidence=0.5, min_tracking_confidence=0.5)\n",
      " |      Initializes a MediaPipe Pose object.\n",
      " |      \n",
      " |      Args:\n",
      " |        static_image_mode: Whether to treat the input images as a batch of static\n",
      " |          and possibly unrelated images, or a video stream. See details in\n",
      " |          https://solutions.mediapipe.dev/pose#static_image_mode.\n",
      " |        model_complexity: Complexity of the pose landmark model: 0, 1 or 2. See\n",
      " |          details in https://solutions.mediapipe.dev/pose#model_complexity.\n",
      " |        smooth_landmarks: Whether to filter landmarks across different input\n",
      " |          images to reduce jitter. See details in\n",
      " |          https://solutions.mediapipe.dev/pose#smooth_landmarks.\n",
      " |        enable_segmentation: Whether to predict segmentation mask. See details in\n",
      " |          https://solutions.mediapipe.dev/pose#enable_segmentation.\n",
      " |        smooth_segmentation: Whether to filter segmentation across different input\n",
      " |          images to reduce jitter. See details in\n",
      " |          https://solutions.mediapipe.dev/pose#smooth_segmentation.\n",
      " |        min_detection_confidence: Minimum confidence value ([0.0, 1.0]) for person\n",
      " |          detection to be considered successful. See details in\n",
      " |          https://solutions.mediapipe.dev/pose#min_detection_confidence.\n",
      " |        min_tracking_confidence: Minimum confidence value ([0.0, 1.0]) for the\n",
      " |          pose landmarks to be considered tracked successfully. See details in\n",
      " |          https://solutions.mediapipe.dev/pose#min_tracking_confidence.\n",
      " |  \n",
      " |  process(self, image: numpy.ndarray) -> <class 'NamedTuple'>\n",
      " |      Processes an RGB image and returns the pose landmarks on the most prominent person detected.\n",
      " |      \n",
      " |      Args:\n",
      " |        image: An RGB image represented as a numpy ndarray.\n",
      " |      \n",
      " |      Raises:\n",
      " |        RuntimeError: If the underlying graph throws any error.\n",
      " |        ValueError: If the input image is not three channel RGB.\n",
      " |      \n",
      " |      Returns:\n",
      " |        A NamedTuple with fields describing the landmarks on the most prominate\n",
      " |        person detected:\n",
      " |          1) \"pose_landmarks\" field that contains the pose landmarks.\n",
      " |          2) \"pose_world_landmarks\" field that contains the pose landmarks in\n",
      " |          real-world 3D coordinates that are in meters with the origin at the\n",
      " |          center between hips.\n",
      " |          3) \"segmentation_mask\" field that contains the segmentation mask if\n",
      " |             \"enable_segmentation\" is set to true.\n",
      " |  \n",
      " |  ----------------------------------------------------------------------\n",
      " |  Methods inherited from mediapipe.python.solution_base.SolutionBase:\n",
      " |  \n",
      " |  __enter__(self)\n",
      " |      A \"with\" statement support.\n",
      " |  \n",
      " |  __exit__(self, exc_type, exc_val, exc_tb)\n",
      " |      Closes all the input sources and the graph.\n",
      " |  \n",
      " |  close(self) -> None\n",
      " |      Closes all the input sources and the graph.\n",
      " |  \n",
      " |  create_graph_options(self, options_message: google.protobuf.message.Message, values: Mapping[str, Any]) -> google.protobuf.message.Message\n",
      " |      Sets protobuf field values.\n",
      " |      \n",
      " |      Args:\n",
      " |        options_message: the options protobuf message.\n",
      " |        values: field value pairs, where each field may be a \".\" separated path.\n",
      " |      \n",
      " |      Returns:\n",
      " |        the options protobuf message.\n",
      " |  \n",
      " |  reset(self) -> None\n",
      " |      Resets the graph for another run.\n",
      " |  \n",
      " |  ----------------------------------------------------------------------\n",
      " |  Data descriptors inherited from mediapipe.python.solution_base.SolutionBase:\n",
      " |  \n",
      " |  __dict__\n",
      " |      dictionary for instance variables (if defined)\n",
      " |  \n",
      " |  __weakref__\n",
      " |      list of weak references to the object (if defined)\n",
      "\n"
     ]
    },
    {
     "name": "stderr",
     "output_type": "stream",
     "text": [
      "objc[1770]: Class CaptureDelegate is implemented in both /opt/homebrew/Caskroom/miniforge/base/envs/DL-torch/lib/python3.8/site-packages/cv2/cv2.abi3.so (0x292f1e538) and /opt/homebrew/Caskroom/miniforge/base/envs/DL-torch/lib/python3.8/site-packages/mediapipe/.dylibs/libopencv_videoio.3.4.16.dylib (0x147bbc860). One of the two will be used. Which one is undefined.\n",
      "objc[1770]: Class CVWindow is implemented in both /opt/homebrew/Caskroom/miniforge/base/envs/DL-torch/lib/python3.8/site-packages/cv2/cv2.abi3.so (0x292f1e588) and /opt/homebrew/Caskroom/miniforge/base/envs/DL-torch/lib/python3.8/site-packages/mediapipe/.dylibs/libopencv_highgui.3.4.16.dylib (0x13f1f4a68). One of the two will be used. Which one is undefined.\n",
      "objc[1770]: Class CVView is implemented in both /opt/homebrew/Caskroom/miniforge/base/envs/DL-torch/lib/python3.8/site-packages/cv2/cv2.abi3.so (0x292f1e5b0) and /opt/homebrew/Caskroom/miniforge/base/envs/DL-torch/lib/python3.8/site-packages/mediapipe/.dylibs/libopencv_highgui.3.4.16.dylib (0x13f1f4a90). One of the two will be used. Which one is undefined.\n",
      "objc[1770]: Class CVSlider is implemented in both /opt/homebrew/Caskroom/miniforge/base/envs/DL-torch/lib/python3.8/site-packages/cv2/cv2.abi3.so (0x292f1e5d8) and /opt/homebrew/Caskroom/miniforge/base/envs/DL-torch/lib/python3.8/site-packages/mediapipe/.dylibs/libopencv_highgui.3.4.16.dylib (0x13f1f4ab8). One of the two will be used. Which one is undefined.\n"
     ]
    }
   ],
   "source": [
    "import mediapipe as mp\n",
    "mp_pose = mp.solutions.pose\n",
    "mp_drawing = mp.solutions.drawing_utils \n",
    "mp_drawing_styles = mp.solutions.drawing_styles\n",
    "\n",
    "help(mp_pose.Pose)"
   ]
  },
  {
   "cell_type": "code",
   "execution_count": 6,
   "metadata": {},
   "outputs": [
    {
     "name": "stderr",
     "output_type": "stream",
     "text": [
      "INFO: Created TensorFlow Lite XNNPACK delegate for CPU.\n"
     ]
    },
    {
     "name": "stdout",
     "output_type": "stream",
     "text": [
      "Nose coordinates: (728.9617549180984, 991.4197482168674)\n",
      "Pose landmarks of /Users/yscho/2022-2-Application-Programming-Final-Project/Reference/01_mediapose/02_mediapose-photo/photo/photo-1519316500492-7d95d2b8c462.jpg:\n",
      "Nose coordinates: (573.5490909814835, 581.5212509632111)\n",
      "Pose landmarks of /Users/yscho/2022-2-Application-Programming-Final-Project/Reference/01_mediapose/02_mediapose-photo/photo/photo-1529891858519-f18aa4f6a3b0.jpg:\n",
      "Nose coordinates: (387.7637372016907, 178.15604150295258)\n",
      "Pose landmarks of /Users/yscho/2022-2-Application-Programming-Final-Project/Reference/01_mediapose/02_mediapose-photo/photo/IMG_6105.png:\n"
     ]
    }
   ],
   "source": [
    "# Run MediaPipe Pose and draw pose landmarks.\n",
    "with mp_pose.Pose(\n",
    "    static_image_mode=True, min_detection_confidence=0.5, model_complexity=2) as pose:\n",
    "  for name, image in images.items():\n",
    "    # Convert the BGR image to RGB and process it with MediaPipe Pose.\n",
    "    results = pose.process(cv2.cvtColor(image, cv2.COLOR_BGR2RGB))\n",
    "    \n",
    "    # Print nose landmark.\n",
    "    image_hight, image_width, _ = image.shape\n",
    "    if not results.pose_landmarks:\n",
    "      continue\n",
    "    print(\n",
    "      f'Nose coordinates: ('\n",
    "      f'{results.pose_landmarks.landmark[mp_pose.PoseLandmark.NOSE].x * image_width}, '\n",
    "      f'{results.pose_landmarks.landmark[mp_pose.PoseLandmark.NOSE].y * image_hight})'\n",
    "    )\n",
    "  \n",
    "    # Draw pose landmarks.\n",
    "    print(f'Pose landmarks of {name}:')\n",
    "    annotated_image = image.copy()\n",
    "    mp_drawing.draw_landmarks(\n",
    "        annotated_image,\n",
    "        results.pose_landmarks,\n",
    "        mp_pose.POSE_CONNECTIONS,\n",
    "        landmark_drawing_spec=mp_drawing_styles.get_default_pose_landmarks_style())\n",
    "    resize_and_show(annotated_image)"
   ]
  },
  {
   "cell_type": "code",
   "execution_count": 7,
   "metadata": {},
   "outputs": [
    {
     "name": "stdout",
     "output_type": "stream",
     "text": [
      "Nose world landmark:\n",
      "x: -0.6062400937080383\n",
      "y: 0.05590585619211197\n",
      "z: -0.4258977174758911\n",
      "visibility: 0.9999951124191284\n",
      "\n"
     ]
    },
    {
     "data": {
      "image/png": "[encoded data removed]",
      "text/plain": [
       "<Figure size 1000x1000 with 1 Axes>"
      ]
     },
     "metadata": {},
     "output_type": "display_data"
    },
    {
     "name": "stdout",
     "output_type": "stream",
     "text": [
      "Nose world landmark:\n",
      "x: -0.0728440135717392\n",
      "y: -0.5826950669288635\n",
      "z: -0.32961589097976685\n",
      "visibility: 1.0\n",
      "\n"
     ]
    },
    {
     "data": {
      "image/png": "[encoded data removed]",
      "text/plain": [
       "<Figure size 1000x1000 with 1 Axes>"
      ]
     },
     "metadata": {},
     "output_type": "display_data"
    },
    {
     "name": "stdout",
     "output_type": "stream",
     "text": [
      "Nose world landmark:\n",
      "x: -0.07177307456731796\n",
      "y: -0.6557230949401855\n",
      "z: -0.28689610958099365\n",
      "visibility: 0.9999079704284668\n",
      "\n"
     ]
    },
    {
     "data": {
      "image/png": "[encoded data removed]",
      "text/plain": [
       "<Figure size 1000x1000 with 1 Axes>"
      ]
     },
     "metadata": {},
     "output_type": "display_data"
    }
   ],
   "source": [
    "# Run MediaPipe Pose and plot 3d pose world landmarks.\n",
    "with mp_pose.Pose(\n",
    "    static_image_mode=True, min_detection_confidence=0.5, model_complexity=2) as pose:\n",
    "  for name, image in images.items():\n",
    "    results = pose.process(cv2.cvtColor(image, cv2.COLOR_BGR2RGB))\n",
    "\n",
    "    # Print the real-world 3D coordinates of nose in meters with the origin at\n",
    "    # the center between hips.\n",
    "    print('Nose world landmark:'),\n",
    "    print(results.pose_world_landmarks.landmark[mp_pose.PoseLandmark.NOSE])\n",
    "    \n",
    "    # Plot pose world landmarks.\n",
    "    mp_drawing.plot_landmarks(\n",
    "        results.pose_world_landmarks, mp_pose.POSE_CONNECTIONS)"
   ]
  },
  {
   "cell_type": "code",
   "execution_count": 8,
   "metadata": {},
   "outputs": [
    {
     "name": "stdout",
     "output_type": "stream",
     "text": [
      "Pose segmentation of /Users/yscho/2022-2-Application-Programming-Final-Project/Reference/01_mediapose/02_mediapose-photo/photo/photo-1519316500492-7d95d2b8c462.jpg:\n"
     ]
    },
    {
     "data": {
      "text/plain": [
       "<Figure size 640x480 with 0 Axes>"
      ]
     },
     "metadata": {},
     "output_type": "display_data"
    },
    {
     "name": "stdout",
     "output_type": "stream",
     "text": [
      "Pose segmentation of /Users/yscho/2022-2-Application-Programming-Final-Project/Reference/01_mediapose/02_mediapose-photo/photo/photo-1529891858519-f18aa4f6a3b0.jpg:\n"
     ]
    },
    {
     "data": {
      "text/plain": [
       "<Figure size 640x480 with 0 Axes>"
      ]
     },
     "metadata": {},
     "output_type": "display_data"
    },
    {
     "name": "stdout",
     "output_type": "stream",
     "text": [
      "Pose segmentation of /Users/yscho/2022-2-Application-Programming-Final-Project/Reference/01_mediapose/02_mediapose-photo/photo/IMG_6105.png:\n"
     ]
    },
    {
     "data": {
      "text/plain": [
       "<Figure size 640x480 with 0 Axes>"
      ]
     },
     "metadata": {},
     "output_type": "display_data"
    }
   ],
   "source": [
    "# Run MediaPipe Pose with `enable_segmentation=True` to get pose segmentation.\n",
    "with mp_pose.Pose(\n",
    "    static_image_mode=True, min_detection_confidence=0.5, \n",
    "    model_complexity=2, enable_segmentation=True) as pose:\n",
    "  for name, image in images.items():\n",
    "    results = pose.process(cv2.cvtColor(image, cv2.COLOR_BGR2RGB))\n",
    "\n",
    "    # Draw pose segmentation.\n",
    "    print(f'Pose segmentation of {name}:')\n",
    "    annotated_image = image.copy()\n",
    "    red_img = np.zeros_like(annotated_image, dtype=np.uint8)\n",
    "    red_img[:, :] = (255,255,255)\n",
    "    segm_2class = 0.2 + 0.8 * results.segmentation_mask\n",
    "    segm_2class = np.repeat(segm_2class[..., np.newaxis], 3, axis=2)\n",
    "    annotated_image = annotated_image * segm_2class + red_img * (1 - segm_2class)\n",
    "    resize_and_show(annotated_image)\n",
    "    plt.figimage(annotated_image)\n",
    "    plt.show()"
   ]
  },
  {
   "cell_type": "code",
   "execution_count": 12,
   "metadata": {},
   "outputs": [],
   "source": [
    "point, line = {}, {}\n",
    "\n",
    "with mp_pose.Pose(\n",
    "    static_image_mode=True, min_detection_confidence=0.5, model_complexity=2) as pose:\n",
    "    for name, image in images.items():\n",
    "        results = pose.process(cv2.cvtColor(image, cv2.COLOR_BGR2RGB))\n",
    "        point[name] = results.pose_world_landmarks\n",
    "        line[name] = mp_pose.POSE_CONNECTIONS"
   ]
  },
  {
   "cell_type": "code",
   "execution_count": 15,
   "metadata": {},
   "outputs": [],
   "source": [
    "call = list(point.keys())"
   ]
  },
  {
   "cell_type": "code",
   "execution_count": 16,
   "metadata": {},
   "outputs": [],
   "source": [
    "import pandas as pd\n",
    "import plotly.graph_objects as go\n",
    "import plotly.express as px\n",
    "\n",
    "_PRESENCE_THRESHOLD = 0.5\n",
    "_VISIBILITY_THRESHOLD = 0.5\n",
    "\n",
    "\n",
    "def plot_landmarks(\n",
    "    landmark_list,\n",
    "    connections=None,\n",
    "):\n",
    "    if not landmark_list:\n",
    "        return\n",
    "    plotted_landmarks = {}\n",
    "    for idx, landmark in enumerate(landmark_list.landmark):\n",
    "        if (\n",
    "            landmark.HasField(\"visibility\")\n",
    "            and landmark.visibility < _VISIBILITY_THRESHOLD\n",
    "        ) or (\n",
    "            landmark.HasField(\"presence\") and landmark.presence < _PRESENCE_THRESHOLD\n",
    "        ):\n",
    "            continue\n",
    "        plotted_landmarks[idx] = (-landmark.z, landmark.x, -landmark.y)\n",
    "    if connections:\n",
    "        out_cn = []\n",
    "        num_landmarks = len(landmark_list.landmark)\n",
    "        # Draws the connections if the start and end landmarks are both visible.\n",
    "        for connection in connections:\n",
    "            start_idx = connection[0]\n",
    "            end_idx = connection[1]\n",
    "            if not (0 <= start_idx < num_landmarks and 0 <= end_idx < num_landmarks):\n",
    "                raise ValueError(\n",
    "                    f\"Landmark index is out of range. Invalid connection \"\n",
    "                    f\"from landmark #{start_idx} to landmark #{end_idx}.\"\n",
    "                )\n",
    "            if start_idx in plotted_landmarks and end_idx in plotted_landmarks:\n",
    "                landmark_pair = [\n",
    "                    plotted_landmarks[start_idx],\n",
    "                    plotted_landmarks[end_idx],\n",
    "                ]\n",
    "                out_cn.append(\n",
    "                    dict(\n",
    "                        xs=[landmark_pair[0][0], landmark_pair[1][0]],\n",
    "                        ys=[landmark_pair[0][1], landmark_pair[1][1]],\n",
    "                        zs=[landmark_pair[0][2], landmark_pair[1][2]],\n",
    "                    )\n",
    "                )\n",
    "        cn2 = {\"xs\": [], \"ys\": [], \"zs\": []}\n",
    "        for pair in out_cn:\n",
    "            for k in pair.keys():\n",
    "                cn2[k].append(pair[k][0])\n",
    "                cn2[k].append(pair[k][1])\n",
    "                cn2[k].append(None)\n",
    "\n",
    "    df = pd.DataFrame(plotted_landmarks).T.rename(columns={0: \"z\", 1: \"x\", 2: \"y\"})\n",
    "    df[\"lm\"] = df.index.map(lambda s: mp_pose.PoseLandmark(s).name).values\n",
    "    fig = (\n",
    "        px.scatter_3d(df, x=\"z\", y=\"x\", z=\"y\", hover_name=\"lm\")\n",
    "        .update_traces(marker={\"color\": \"red\"})\n",
    "        .update_layout(\n",
    "            margin={\"l\": 0, \"r\": 0, \"t\": 0, \"b\": 0},\n",
    "            scene={\"camera\": {\"eye\": {\"x\": 2.1, \"y\": 0, \"z\": 0}}},\n",
    "        )\n",
    "    )\n",
    "    fig.add_traces(\n",
    "        [\n",
    "            go.Scatter3d(\n",
    "                x=cn2[\"xs\"],\n",
    "                y=cn2[\"ys\"],\n",
    "                z=cn2[\"zs\"],\n",
    "                mode=\"lines\",\n",
    "                line={\"color\": \"black\", \"width\": 5},\n",
    "                name=\"connections\",\n",
    "            )\n",
    "        ]\n",
    "    )\n",
    "\n",
    "    return fig"
   ]
  },
  {
   "cell_type": "code",
   "execution_count": 22,
   "metadata": {},
   "outputs": [],
   "source": [
    "fig = {}\n",
    "for name in call:\n",
    "    fig[name] = plot_landmarks(point[name],line[name])"
   ]
  },
  {
   "cell_type": "code",
   "execution_count": 26,
   "metadata": {},
   "outputs": [
    {
     "data": {
      "application/vnd.plotly.v1+json": {
       "config": {
        "plotlyServerURL": "https://plot.ly"
       },
       "data": [
        {
         "hovertemplate": "<b>%{hovertext}</b><br><br>z=%{x}<br>x=%{y}<br>y=%{z}<extra></extra>",
         "hovertext": [
          "NOSE",
          "LEFT_EYE_INNER",
          "LEFT_EYE",
          "LEFT_EYE_OUTER",
          "RIGHT_EYE_INNER",
          "RIGHT_EYE",
          "RIGHT_EYE_OUTER",
          "LEFT_EAR",
          "RIGHT_EAR",
          "MOUTH_LEFT",
          "MOUTH_RIGHT",
          "LEFT_SHOULDER",
          "RIGHT_SHOULDER",
          "LEFT_ELBOW",
          "RIGHT_ELBOW",
          "LEFT_WRIST",
          "RIGHT_WRIST",
          "LEFT_PINKY",
          "RIGHT_PINKY",
          "LEFT_INDEX",
          "RIGHT_INDEX",
          "LEFT_THUMB",
          "RIGHT_THUMB",
          "LEFT_HIP",
          "RIGHT_HIP",
          "LEFT_KNEE",
          "RIGHT_KNEE",
          "LEFT_ANKLE",
          "RIGHT_ANKLE",
          "LEFT_HEEL",
          "RIGHT_HEEL",
          "LEFT_FOOT_INDEX",
          "RIGHT_FOOT_INDEX"
         ],
         "legendgroup": "",
         "marker": {
          "color": "red",
          "symbol": "circle"
         },
         "mode": "markers",
         "name": "",
         "scene": "scene",
         "showlegend": false,
         "type": "scatter3d",
         "x": [
          0.4258977174758911,
          0.4153118133544922,
          0.40903186798095703,
          0.4093111753463745,
          0.45961999893188477,
          0.4709482192993164,
          0.44856446981430054,
          0.3033161163330078,
          0.4280893802642822,
          0.37093889713287354,
          0.43883833289146423,
          0.18078500032424927,
          0.30639076232910156,
          0.2224482297897339,
          0.4198724031448364,
          0.22082078456878662,
          0.5080488920211792,
          0.1933199167251587,
          0.5747290253639221,
          0.24498558044433594,
          0.5806196331977844,
          0.24807922542095184,
          0.5227091312408447,
          -0.08404229581356049,
          0.08278334140777588,
          -0.24250435829162598,
          0.07852822542190552,
          -0.43885570764541626,
          -0.02103102207183838,
          -0.4705926179885864,
          -0.00013828277587890625,
          -0.45251786708831787,
          0.1012735590338707
         ],
         "y": [
          -0.6062400937080383,
          -0.5970765948295593,
          -0.5962722301483154,
          -0.5980601906776428,
          -0.6032915115356445,
          -0.6028539538383484,
          -0.5908151865005493,
          -0.5330981612205505,
          -0.4672740399837494,
          -0.5861501097679138,
          -0.5497773289680481,
          -0.48136618733406067,
          -0.4456841051578522,
          -0.5284656882286072,
          -0.3714366555213928,
          -0.5327857136726379,
          -0.37892282009124756,
          -0.5799394845962524,
          -0.42106419801712036,
          -0.5710211992263794,
          -0.46346718072891235,
          -0.5145319700241089,
          -0.392480731010437,
          -0.040455274283885956,
          0.03316337615251541,
          0.16024145483970642,
          0.2926512360572815,
          0.1598915308713913,
          0.5676618218421936,
          0.16242466866970062,
          0.5803564786911011,
          0.17395207285881042,
          0.5998863577842712
         ],
         "z": [
          -0.05590585619211197,
          -0.07950372993946075,
          -0.08181610703468323,
          -0.08310139179229736,
          -0.0883929431438446,
          -0.0866270586848259,
          -0.08093295991420746,
          -0.09241575747728348,
          -0.13710002601146698,
          -0.03448177129030228,
          -0.03995863348245621,
          0.0418124720454216,
          -0.17203554511070251,
          0.2740272283554077,
          -0.34236830472946167,
          0.5396069884300232,
          -0.6248695850372314,
          0.6005939841270447,
          -0.6860538125038147,
          0.6028012037277222,
          -0.6793029308319092,
          0.5686987042427063,
          -0.6415793299674988,
          0.0437699593603611,
          -0.04171214625239372,
          -0.19371795654296875,
          -0.233245849609375,
          -0.5275806784629822,
          -0.5645168423652649,
          -0.5901975631713867,
          -0.6074231266975403,
          -0.6592464447021484,
          -0.647454023361206
         ]
        },
        {
         "line": {
          "color": "black",
          "width": 5
         },
         "mode": "lines",
         "name": "connections",
         "type": "scatter3d",
         "x": [
          0.22082078456878662,
          0.24807922542095184,
          null,
          0.5080488920211792,
          0.5806196331977844,
          null,
          0.5747290253639221,
          0.5806196331977844,
          null,
          0.4093111753463745,
          0.3033161163330078,
          null,
          0.4198724031448364,
          0.5080488920211792,
          null,
          -0.08404229581356049,
          -0.24250435829162598,
          null,
          -0.02103102207183838,
          -0.00013828277587890625,
          null,
          0.18078500032424927,
          -0.08404229581356049,
          null,
          -0.43885570764541626,
          -0.45251786708831787,
          null,
          0.44856446981430054,
          0.4280893802642822,
          null,
          0.22082078456878662,
          0.1933199167251587,
          null,
          0.08278334140777588,
          0.07852822542190552,
          null,
          0.5080488920211792,
          0.5227091312408447,
          null,
          0.45961999893188477,
          0.4709482192993164,
          null,
          0.4709482192993164,
          0.44856446981430054,
          null,
          -0.4705926179885864,
          -0.45251786708831787,
          null,
          0.30639076232910156,
          0.08278334140777588,
          null,
          -0.08404229581356049,
          0.08278334140777588,
          null,
          0.4258977174758911,
          0.4153118133544922,
          null,
          0.37093889713287354,
          0.43883833289146423,
          null,
          0.4153118133544922,
          0.40903186798095703,
          null,
          0.4258977174758911,
          0.45961999893188477,
          null,
          0.18078500032424927,
          0.2224482297897339,
          null,
          -0.00013828277587890625,
          0.1012735590338707,
          null,
          -0.02103102207183838,
          0.1012735590338707,
          null,
          0.22082078456878662,
          0.24498558044433594,
          null,
          0.5080488920211792,
          0.5747290253639221,
          null,
          -0.24250435829162598,
          -0.43885570764541626,
          null,
          0.07852822542190552,
          -0.02103102207183838,
          null,
          0.30639076232910156,
          0.4198724031448364,
          null,
          0.1933199167251587,
          0.24498558044433594,
          null,
          0.40903186798095703,
          0.4093111753463745,
          null,
          0.18078500032424927,
          0.30639076232910156,
          null,
          -0.43885570764541626,
          -0.4705926179885864,
          null,
          0.2224482297897339,
          0.22082078456878662,
          null
         ],
         "y": [
          -0.5327857136726379,
          -0.5145319700241089,
          null,
          -0.37892282009124756,
          -0.46346718072891235,
          null,
          -0.42106419801712036,
          -0.46346718072891235,
          null,
          -0.5980601906776428,
          -0.5330981612205505,
          null,
          -0.3714366555213928,
          -0.37892282009124756,
          null,
          -0.040455274283885956,
          0.16024145483970642,
          null,
          0.5676618218421936,
          0.5803564786911011,
          null,
          -0.48136618733406067,
          -0.040455274283885956,
          null,
          0.1598915308713913,
          0.17395207285881042,
          null,
          -0.5908151865005493,
          -0.4672740399837494,
          null,
          -0.5327857136726379,
          -0.5799394845962524,
          null,
          0.03316337615251541,
          0.2926512360572815,
          null,
          -0.37892282009124756,
          -0.392480731010437,
          null,
          -0.6032915115356445,
          -0.6028539538383484,
          null,
          -0.6028539538383484,
          -0.5908151865005493,
          null,
          0.16242466866970062,
          0.17395207285881042,
          null,
          -0.4456841051578522,
          0.03316337615251541,
          null,
          -0.040455274283885956,
          0.03316337615251541,
          null,
          -0.6062400937080383,
          -0.5970765948295593,
          null,
          -0.5861501097679138,
          -0.5497773289680481,
          null,
          -0.5970765948295593,
          -0.5962722301483154,
          null,
          -0.6062400937080383,
          -0.6032915115356445,
          null,
          -0.48136618733406067,
          -0.5284656882286072,
          null,
          0.5803564786911011,
          0.5998863577842712,
          null,
          0.5676618218421936,
          0.5998863577842712,
          null,
          -0.5327857136726379,
          -0.5710211992263794,
          null,
          -0.37892282009124756,
          -0.42106419801712036,
          null,
          0.16024145483970642,
          0.1598915308713913,
          null,
          0.2926512360572815,
          0.5676618218421936,
          null,
          -0.4456841051578522,
          -0.3714366555213928,
          null,
          -0.5799394845962524,
          -0.5710211992263794,
          null,
          -0.5962722301483154,
          -0.5980601906776428,
          null,
          -0.48136618733406067,
          -0.4456841051578522,
          null,
          0.1598915308713913,
          0.16242466866970062,
          null,
          -0.5284656882286072,
          -0.5327857136726379,
          null
         ],
         "z": [
          0.5396069884300232,
          0.5686987042427063,
          null,
          -0.6248695850372314,
          -0.6793029308319092,
          null,
          -0.6860538125038147,
          -0.6793029308319092,
          null,
          -0.08310139179229736,
          -0.09241575747728348,
          null,
          -0.34236830472946167,
          -0.6248695850372314,
          null,
          0.0437699593603611,
          -0.19371795654296875,
          null,
          -0.5645168423652649,
          -0.6074231266975403,
          null,
          0.0418124720454216,
          0.0437699593603611,
          null,
          -0.5275806784629822,
          -0.6592464447021484,
          null,
          -0.08093295991420746,
          -0.13710002601146698,
          null,
          0.5396069884300232,
          0.6005939841270447,
          null,
          -0.04171214625239372,
          -0.233245849609375,
          null,
          -0.6248695850372314,
          -0.6415793299674988,
          null,
          -0.0883929431438446,
          -0.0866270586848259,
          null,
          -0.0866270586848259,
          -0.08093295991420746,
          null,
          -0.5901975631713867,
          -0.6592464447021484,
          null,
          -0.17203554511070251,
          -0.04171214625239372,
          null,
          0.0437699593603611,
          -0.04171214625239372,
          null,
          -0.05590585619211197,
          -0.07950372993946075,
          null,
          -0.03448177129030228,
          -0.03995863348245621,
          null,
          -0.07950372993946075,
          -0.08181610703468323,
          null,
          -0.05590585619211197,
          -0.0883929431438446,
          null,
          0.0418124720454216,
          0.2740272283554077,
          null,
          -0.6074231266975403,
          -0.647454023361206,
          null,
          -0.5645168423652649,
          -0.647454023361206,
          null,
          0.5396069884300232,
          0.6028012037277222,
          null,
          -0.6248695850372314,
          -0.6860538125038147,
          null,
          -0.19371795654296875,
          -0.5275806784629822,
          null,
          -0.233245849609375,
          -0.5645168423652649,
          null,
          -0.17203554511070251,
          -0.34236830472946167,
          null,
          0.6005939841270447,
          0.6028012037277222,
          null,
          -0.08181610703468323,
          -0.08310139179229736,
          null,
          0.0418124720454216,
          -0.17203554511070251,
          null,
          -0.5275806784629822,
          -0.5901975631713867,
          null,
          0.2740272283554077,
          0.5396069884300232,
          null
         ]
        }
       ],
       "layout": {
        "legend": {
         "tracegroupgap": 0
        },
        "margin": {
         "b": 0,
         "l": 0,
         "r": 0,
         "t": 0
        },
        "scene": {
         "camera": {
          "eye": {
           "x": 2.1,
           "y": 0,
           "z": 0
          }
         },
         "domain": {
          "x": [
           0,
           1
          ],
          "y": [
           0,
           1
          ]
         },
         "xaxis": {
          "title": {
           "text": "z"
          }
         },
         "yaxis": {
          "title": {
           "text": "x"
          }
         },
         "zaxis": {
          "title": {
           "text": "y"
          }
         }
        },
        "template": {
         "data": {
          "bar": [
           {
            "error_x": {
             "color": "#2a3f5f"
            },
            "error_y": {
             "color": "#2a3f5f"
            },
            "marker": {
             "line": {
              "color": "#E5ECF6",
              "width": 0.5
             },
             "pattern": {
              "fillmode": "overlay",
              "size": 10,
              "solidity": 0.2
             }
            },
            "type": "bar"
           }
          ],
          "barpolar": [
           {
            "marker": {
             "line": {
              "color": "#E5ECF6",
              "width": 0.5
             },
             "pattern": {
              "fillmode": "overlay",
              "size": 10,
              "solidity": 0.2
             }
            },
            "type": "barpolar"
           }
          ],
          "carpet": [
           {
            "aaxis": {
             "endlinecolor": "#2a3f5f",
             "gridcolor": "white",
             "linecolor": "white",
             "minorgridcolor": "white",
             "startlinecolor": "#2a3f5f"
            },
            "baxis": {
             "endlinecolor": "#2a3f5f",
             "gridcolor": "white",
             "linecolor": "white",
             "minorgridcolor": "white",
             "startlinecolor": "#2a3f5f"
            },
            "type": "carpet"
           }
          ],
          "choropleth": [
           {
            "colorbar": {
             "outlinewidth": 0,
             "ticks": ""
            },
            "type": "choropleth"
           }
          ],
          "contour": [
           {
            "colorbar": {
             "outlinewidth": 0,
             "ticks": ""
            },
            "colorscale": [
             [
              0,
              "#0d0887"
             ],
             [
              0.1111111111111111,
              "#46039f"
             ],
             [
              0.2222222222222222,
              "#7201a8"
             ],
             [
              0.3333333333333333,
              "#9c179e"
             ],
             [
              0.4444444444444444,
              "#bd3786"
             ],
             [
              0.5555555555555556,
              "#d8576b"
             ],
             [
              0.6666666666666666,
              "#ed7953"
             ],
             [
              0.7777777777777778,
              "#fb9f3a"
             ],
             [
              0.8888888888888888,
              "#fdca26"
             ],
             [
              1,
              "#f0f921"
             ]
            ],
            "type": "contour"
           }
          ],
          "contourcarpet": [
           {
            "colorbar": {
             "outlinewidth": 0,
             "ticks": ""
            },
            "type": "contourcarpet"
           }
          ],
          "heatmap": [
           {
            "colorbar": {
             "outlinewidth": 0,
             "ticks": ""
            },
            "colorscale": [
             [
              0,
              "#0d0887"
             ],
             [
              0.1111111111111111,
              "#46039f"
             ],
             [
              0.2222222222222222,
              "#7201a8"
             ],
             [
              0.3333333333333333,
              "#9c179e"
             ],
             [
              0.4444444444444444,
              "#bd3786"
             ],
             [
              0.5555555555555556,
              "#d8576b"
             ],
             [
              0.6666666666666666,
              "#ed7953"
             ],
             [
              0.7777777777777778,
              "#fb9f3a"
             ],
             [
              0.8888888888888888,
              "#fdca26"
             ],
             [
              1,
              "#f0f921"
             ]
            ],
            "type": "heatmap"
           }
          ],
          "heatmapgl": [
           {
            "colorbar": {
             "outlinewidth": 0,
             "ticks": ""
            },
            "colorscale": [
             [
              0,
              "#0d0887"
             ],
             [
              0.1111111111111111,
              "#46039f"
             ],
             [
              0.2222222222222222,
              "#7201a8"
             ],
             [
              0.3333333333333333,
              "#9c179e"
             ],
             [
              0.4444444444444444,
              "#bd3786"
             ],
             [
              0.5555555555555556,
              "#d8576b"
             ],
             [
              0.6666666666666666,
              "#ed7953"
             ],
             [
              0.7777777777777778,
              "#fb9f3a"
             ],
             [
              0.8888888888888888,
              "#fdca26"
             ],
             [
              1,
              "#f0f921"
             ]
            ],
            "type": "heatmapgl"
           }
          ],
          "histogram": [
           {
            "marker": {
             "pattern": {
              "fillmode": "overlay",
              "size": 10,
              "solidity": 0.2
             }
            },
            "type": "histogram"
           }
          ],
          "histogram2d": [
           {
            "colorbar": {
             "outlinewidth": 0,
             "ticks": ""
            },
            "colorscale": [
             [
              0,
              "#0d0887"
             ],
             [
              0.1111111111111111,
              "#46039f"
             ],
             [
              0.2222222222222222,
              "#7201a8"
             ],
             [
              0.3333333333333333,
              "#9c179e"
             ],
             [
              0.4444444444444444,
              "#bd3786"
             ],
             [
              0.5555555555555556,
              "#d8576b"
             ],
             [
              0.6666666666666666,
              "#ed7953"
             ],
             [
              0.7777777777777778,
              "#fb9f3a"
             ],
             [
              0.8888888888888888,
              "#fdca26"
             ],
             [
              1,
              "#f0f921"
             ]
            ],
            "type": "histogram2d"
           }
          ],
          "histogram2dcontour": [
           {
            "colorbar": {
             "outlinewidth": 0,
             "ticks": ""
            },
            "colorscale": [
             [
              0,
              "#0d0887"
             ],
             [
              0.1111111111111111,
              "#46039f"
             ],
             [
              0.2222222222222222,
              "#7201a8"
             ],
             [
              0.3333333333333333,
              "#9c179e"
             ],
             [
              0.4444444444444444,
              "#bd3786"
             ],
             [
              0.5555555555555556,
              "#d8576b"
             ],
             [
              0.6666666666666666,
              "#ed7953"
             ],
             [
              0.7777777777777778,
              "#fb9f3a"
             ],
             [
              0.8888888888888888,
              "#fdca26"
             ],
             [
              1,
              "#f0f921"
             ]
            ],
            "type": "histogram2dcontour"
           }
          ],
          "mesh3d": [
           {
            "colorbar": {
             "outlinewidth": 0,
             "ticks": ""
            },
            "type": "mesh3d"
           }
          ],
          "parcoords": [
           {
            "line": {
             "colorbar": {
              "outlinewidth": 0,
              "ticks": ""
             }
            },
            "type": "parcoords"
           }
          ],
          "pie": [
           {
            "automargin": true,
            "type": "pie"
           }
          ],
          "scatter": [
           {
            "fillpattern": {
             "fillmode": "overlay",
             "size": 10,
             "solidity": 0.2
            },
            "type": "scatter"
           }
          ],
          "scatter3d": [
           {
            "line": {
             "colorbar": {
              "outlinewidth": 0,
              "ticks": ""
             }
            },
            "marker": {
             "colorbar": {
              "outlinewidth": 0,
              "ticks": ""
             }
            },
            "type": "scatter3d"
           }
          ],
          "scattercarpet": [
           {
            "marker": {
             "colorbar": {
              "outlinewidth": 0,
              "ticks": ""
             }
            },
            "type": "scattercarpet"
           }
          ],
          "scattergeo": [
           {
            "marker": {
             "colorbar": {
              "outlinewidth": 0,
              "ticks": ""
             }
            },
            "type": "scattergeo"
           }
          ],
          "scattergl": [
           {
            "marker": {
             "colorbar": {
              "outlinewidth": 0,
              "ticks": ""
             }
            },
            "type": "scattergl"
           }
          ],
          "scattermapbox": [
           {
            "marker": {
             "colorbar": {
              "outlinewidth": 0,
              "ticks": ""
             }
            },
            "type": "scattermapbox"
           }
          ],
          "scatterpolar": [
           {
            "marker": {
             "colorbar": {
              "outlinewidth": 0,
              "ticks": ""
             }
            },
            "type": "scatterpolar"
           }
          ],
          "scatterpolargl": [
           {
            "marker": {
             "colorbar": {
              "outlinewidth": 0,
              "ticks": ""
             }
            },
            "type": "scatterpolargl"
           }
          ],
          "scatterternary": [
           {
            "marker": {
             "colorbar": {
              "outlinewidth": 0,
              "ticks": ""
             }
            },
            "type": "scatterternary"
           }
          ],
          "surface": [
           {
            "colorbar": {
             "outlinewidth": 0,
             "ticks": ""
            },
            "colorscale": [
             [
              0,
              "#0d0887"
             ],
             [
              0.1111111111111111,
              "#46039f"
             ],
             [
              0.2222222222222222,
              "#7201a8"
             ],
             [
              0.3333333333333333,
              "#9c179e"
             ],
             [
              0.4444444444444444,
              "#bd3786"
             ],
             [
              0.5555555555555556,
              "#d8576b"
             ],
             [
              0.6666666666666666,
              "#ed7953"
             ],
             [
              0.7777777777777778,
              "#fb9f3a"
             ],
             [
              0.8888888888888888,
              "#fdca26"
             ],
             [
              1,
              "#f0f921"
             ]
            ],
            "type": "surface"
           }
          ],
          "table": [
           {
            "cells": {
             "fill": {
              "color": "#EBF0F8"
             },
             "line": {
              "color": "white"
             }
            },
            "header": {
             "fill": {
              "color": "#C8D4E3"
             },
             "line": {
              "color": "white"
             }
            },
            "type": "table"
           }
          ]
         },
         "layout": {
          "annotationdefaults": {
           "arrowcolor": "#2a3f5f",
           "arrowhead": 0,
           "arrowwidth": 1
          },
          "autotypenumbers": "strict",
          "coloraxis": {
           "colorbar": {
            "outlinewidth": 0,
            "ticks": ""
           }
          },
          "colorscale": {
           "diverging": [
            [
             0,
             "#8e0152"
            ],
            [
             0.1,
             "#c51b7d"
            ],
            [
             0.2,
             "#de77ae"
            ],
            [
             0.3,
             "#f1b6da"
            ],
            [
             0.4,
             "#fde0ef"
            ],
            [
             0.5,
             "#f7f7f7"
            ],
            [
             0.6,
             "#e6f5d0"
            ],
            [
             0.7,
             "#b8e186"
            ],
            [
             0.8,
             "#7fbc41"
            ],
            [
             0.9,
             "#4d9221"
            ],
            [
             1,
             "#276419"
            ]
           ],
           "sequential": [
            [
             0,
             "#0d0887"
            ],
            [
             0.1111111111111111,
             "#46039f"
            ],
            [
             0.2222222222222222,
             "#7201a8"
            ],
            [
             0.3333333333333333,
             "#9c179e"
            ],
            [
             0.4444444444444444,
             "#bd3786"
            ],
            [
             0.5555555555555556,
             "#d8576b"
            ],
            [
             0.6666666666666666,
             "#ed7953"
            ],
            [
             0.7777777777777778,
             "#fb9f3a"
            ],
            [
             0.8888888888888888,
             "#fdca26"
            ],
            [
             1,
             "#f0f921"
            ]
           ],
           "sequentialminus": [
            [
             0,
             "#0d0887"
            ],
            [
             0.1111111111111111,
             "#46039f"
            ],
            [
             0.2222222222222222,
             "#7201a8"
            ],
            [
             0.3333333333333333,
             "#9c179e"
            ],
            [
             0.4444444444444444,
             "#bd3786"
            ],
            [
             0.5555555555555556,
             "#d8576b"
            ],
            [
             0.6666666666666666,
             "#ed7953"
            ],
            [
             0.7777777777777778,
             "#fb9f3a"
            ],
            [
             0.8888888888888888,
             "#fdca26"
            ],
            [
             1,
             "#f0f921"
            ]
           ]
          },
          "colorway": [
           "#636efa",
           "#EF553B",
           "#00cc96",
           "#ab63fa",
           "#FFA15A",
           "#19d3f3",
           "#FF6692",
           "#B6E880",
           "#FF97FF",
           "#FECB52"
          ],
          "font": {
           "color": "#2a3f5f"
          },
          "geo": {
           "bgcolor": "white",
           "lakecolor": "white",
           "landcolor": "#E5ECF6",
           "showlakes": true,
           "showland": true,
           "subunitcolor": "white"
          },
          "hoverlabel": {
           "align": "left"
          },
          "hovermode": "closest",
          "mapbox": {
           "style": "light"
          },
          "paper_bgcolor": "white",
          "plot_bgcolor": "#E5ECF6",
          "polar": {
           "angularaxis": {
            "gridcolor": "white",
            "linecolor": "white",
            "ticks": ""
           },
           "bgcolor": "#E5ECF6",
           "radialaxis": {
            "gridcolor": "white",
            "linecolor": "white",
            "ticks": ""
           }
          },
          "scene": {
           "xaxis": {
            "backgroundcolor": "#E5ECF6",
            "gridcolor": "white",
            "gridwidth": 2,
            "linecolor": "white",
            "showbackground": true,
            "ticks": "",
            "zerolinecolor": "white"
           },
           "yaxis": {
            "backgroundcolor": "#E5ECF6",
            "gridcolor": "white",
            "gridwidth": 2,
            "linecolor": "white",
            "showbackground": true,
            "ticks": "",
            "zerolinecolor": "white"
           },
           "zaxis": {
            "backgroundcolor": "#E5ECF6",
            "gridcolor": "white",
            "gridwidth": 2,
            "linecolor": "white",
            "showbackground": true,
            "ticks": "",
            "zerolinecolor": "white"
           }
          },
          "shapedefaults": {
           "line": {
            "color": "#2a3f5f"
           }
          },
          "ternary": {
           "aaxis": {
            "gridcolor": "white",
            "linecolor": "white",
            "ticks": ""
           },
           "baxis": {
            "gridcolor": "white",
            "linecolor": "white",
            "ticks": ""
           },
           "bgcolor": "#E5ECF6",
           "caxis": {
            "gridcolor": "white",
            "linecolor": "white",
            "ticks": ""
           }
          },
          "title": {
           "x": 0.05
          },
          "xaxis": {
           "automargin": true,
           "gridcolor": "white",
           "linecolor": "white",
           "ticks": "",
           "title": {
            "standoff": 15
           },
           "zerolinecolor": "white",
           "zerolinewidth": 2
          },
          "yaxis": {
           "automargin": true,
           "gridcolor": "white",
           "linecolor": "white",
           "ticks": "",
           "title": {
            "standoff": 15
           },
           "zerolinecolor": "white",
           "zerolinewidth": 2
          }
         }
        }
       }
      }
     },
     "metadata": {},
     "output_type": "display_data"
    },
    {
     "data": {
      "application/vnd.plotly.v1+json": {
       "config": {
        "plotlyServerURL": "https://plot.ly"
       },
       "data": [
        {
         "hovertemplate": "<b>%{hovertext}</b><br><br>z=%{x}<br>x=%{y}<br>y=%{z}<extra></extra>",
         "hovertext": [
          "NOSE",
          "LEFT_EYE_INNER",
          "LEFT_EYE",
          "LEFT_EYE_OUTER",
          "RIGHT_EYE_INNER",
          "RIGHT_EYE",
          "RIGHT_EYE_OUTER",
          "LEFT_EAR",
          "RIGHT_EAR",
          "MOUTH_LEFT",
          "MOUTH_RIGHT",
          "LEFT_SHOULDER",
          "RIGHT_SHOULDER",
          "LEFT_ELBOW",
          "RIGHT_ELBOW",
          "LEFT_WRIST",
          "RIGHT_WRIST",
          "LEFT_PINKY",
          "RIGHT_PINKY",
          "LEFT_INDEX",
          "RIGHT_INDEX",
          "LEFT_THUMB",
          "RIGHT_THUMB",
          "LEFT_HIP",
          "RIGHT_HIP",
          "LEFT_KNEE",
          "RIGHT_KNEE",
          "LEFT_ANKLE",
          "RIGHT_ANKLE",
          "LEFT_HEEL",
          "RIGHT_HEEL",
          "LEFT_FOOT_INDEX",
          "RIGHT_FOOT_INDEX"
         ],
         "legendgroup": "",
         "marker": {
          "color": "red",
          "symbol": "circle"
         },
         "mode": "markers",
         "name": "",
         "scene": "scene",
         "showlegend": false,
         "type": "scatter3d",
         "x": [
          0.32961589097976685,
          0.3201714754104614,
          0.31033432483673096,
          0.31250929832458496,
          0.3247683048248291,
          0.33514851331710815,
          0.31586188077926636,
          0.21966314315795898,
          0.17662368714809418,
          0.2880595922470093,
          0.29943394660949707,
          0.14465469121932983,
          -0.0556638240814209,
          0.173979252576828,
          -0.04367256164550781,
          0.15003442764282227,
          0.04870259761810303,
          0.14329814910888672,
          0.08477839827537537,
          0.16343754529953003,
          0.09813350439071655,
          0.15636321902275085,
          0.06287670135498047,
          0.040174663066864014,
          -0.042082786560058594,
          0.17349684238433838,
          -0.03039228916168213,
          0.1729038953781128,
          -0.1888120174407959,
          0.170007586479187,
          -0.16451430320739746,
          0.23303651809692383,
          -0.17250806093215942
         ],
         "y": [
          -0.0728440135717392,
          -0.04411500692367554,
          -0.04463408142328262,
          -0.04499092698097229,
          -0.07343810796737671,
          -0.07238414138555527,
          -0.06687258929014206,
          0.04562161862850189,
          -0.10595247149467468,
          -0.027293391525745392,
          -0.0599096305668354,
          0.11193792521953583,
          -0.15924355387687683,
          0.24035044014453888,
          -0.25229206681251526,
          0.34472087025642395,
          -0.38879382610321045,
          0.3624054789543152,
          -0.39986759424209595,
          0.3441793620586395,
          -0.3885969817638397,
          0.3478277325630188,
          -0.39016082882881165,
          0.08198704570531845,
          -0.07878221571445465,
          0.29164138436317444,
          -0.26442888379096985,
          0.6212067604064941,
          -0.17253708839416504,
          0.6335476040840149,
          -0.16675949096679688,
          0.560145378112793,
          -0.2642860412597656
         ],
         "z": [
          0.5826950669288635,
          0.6041898131370544,
          0.6039777994155884,
          0.6056321859359741,
          0.6146583557128906,
          0.6139718890190125,
          0.6009976863861084,
          0.5967769622802734,
          0.5498430132865906,
          0.5730794072151184,
          0.539247453212738,
          0.4302227795124054,
          0.4746372401714325,
          0.23941972851753235,
          0.27308982610702515,
          0.04184364899992943,
          0.3945753872394562,
          0.01517985388636589,
          0.4503977298736572,
          -0.009911272674798965,
          0.518169641494751,
          0.008014578372240067,
          0.4254339635372162,
          0.0021719932556152344,
          0.0017554694786667824,
          -0.3521958887577057,
          -0.19507525861263275,
          -0.6138113141059875,
          -0.5564253330230713,
          -0.647088885307312,
          -0.5862042307853699,
          -0.6717439889907837,
          -0.6094896793365479
         ]
        },
        {
         "line": {
          "color": "black",
          "width": 5
         },
         "mode": "lines",
         "name": "connections",
         "type": "scatter3d",
         "x": [
          0.15003442764282227,
          0.15636321902275085,
          null,
          0.04870259761810303,
          0.09813350439071655,
          null,
          0.08477839827537537,
          0.09813350439071655,
          null,
          0.31250929832458496,
          0.21966314315795898,
          null,
          -0.04367256164550781,
          0.04870259761810303,
          null,
          0.040174663066864014,
          0.17349684238433838,
          null,
          -0.1888120174407959,
          -0.16451430320739746,
          null,
          0.14465469121932983,
          0.040174663066864014,
          null,
          0.1729038953781128,
          0.23303651809692383,
          null,
          0.31586188077926636,
          0.17662368714809418,
          null,
          0.15003442764282227,
          0.14329814910888672,
          null,
          -0.042082786560058594,
          -0.03039228916168213,
          null,
          0.04870259761810303,
          0.06287670135498047,
          null,
          0.3247683048248291,
          0.33514851331710815,
          null,
          0.33514851331710815,
          0.31586188077926636,
          null,
          0.170007586479187,
          0.23303651809692383,
          null,
          -0.0556638240814209,
          -0.042082786560058594,
          null,
          0.040174663066864014,
          -0.042082786560058594,
          null,
          0.32961589097976685,
          0.3201714754104614,
          null,
          0.2880595922470093,
          0.29943394660949707,
          null,
          0.3201714754104614,
          0.31033432483673096,
          null,
          0.32961589097976685,
          0.3247683048248291,
          null,
          0.14465469121932983,
          0.173979252576828,
          null,
          -0.16451430320739746,
          -0.17250806093215942,
          null,
          -0.1888120174407959,
          -0.17250806093215942,
          null,
          0.15003442764282227,
          0.16343754529953003,
          null,
          0.04870259761810303,
          0.08477839827537537,
          null,
          0.17349684238433838,
          0.1729038953781128,
          null,
          -0.03039228916168213,
          -0.1888120174407959,
          null,
          -0.0556638240814209,
          -0.04367256164550781,
          null,
          0.14329814910888672,
          0.16343754529953003,
          null,
          0.31033432483673096,
          0.31250929832458496,
          null,
          0.14465469121932983,
          -0.0556638240814209,
          null,
          0.1729038953781128,
          0.170007586479187,
          null,
          0.173979252576828,
          0.15003442764282227,
          null
         ],
         "y": [
          0.34472087025642395,
          0.3478277325630188,
          null,
          -0.38879382610321045,
          -0.3885969817638397,
          null,
          -0.39986759424209595,
          -0.3885969817638397,
          null,
          -0.04499092698097229,
          0.04562161862850189,
          null,
          -0.25229206681251526,
          -0.38879382610321045,
          null,
          0.08198704570531845,
          0.29164138436317444,
          null,
          -0.17253708839416504,
          -0.16675949096679688,
          null,
          0.11193792521953583,
          0.08198704570531845,
          null,
          0.6212067604064941,
          0.560145378112793,
          null,
          -0.06687258929014206,
          -0.10595247149467468,
          null,
          0.34472087025642395,
          0.3624054789543152,
          null,
          -0.07878221571445465,
          -0.26442888379096985,
          null,
          -0.38879382610321045,
          -0.39016082882881165,
          null,
          -0.07343810796737671,
          -0.07238414138555527,
          null,
          -0.07238414138555527,
          -0.06687258929014206,
          null,
          0.6335476040840149,
          0.560145378112793,
          null,
          -0.15924355387687683,
          -0.07878221571445465,
          null,
          0.08198704570531845,
          -0.07878221571445465,
          null,
          -0.0728440135717392,
          -0.04411500692367554,
          null,
          -0.027293391525745392,
          -0.0599096305668354,
          null,
          -0.04411500692367554,
          -0.04463408142328262,
          null,
          -0.0728440135717392,
          -0.07343810796737671,
          null,
          0.11193792521953583,
          0.24035044014453888,
          null,
          -0.16675949096679688,
          -0.2642860412597656,
          null,
          -0.17253708839416504,
          -0.2642860412597656,
          null,
          0.34472087025642395,
          0.3441793620586395,
          null,
          -0.38879382610321045,
          -0.39986759424209595,
          null,
          0.29164138436317444,
          0.6212067604064941,
          null,
          -0.26442888379096985,
          -0.17253708839416504,
          null,
          -0.15924355387687683,
          -0.25229206681251526,
          null,
          0.3624054789543152,
          0.3441793620586395,
          null,
          -0.04463408142328262,
          -0.04499092698097229,
          null,
          0.11193792521953583,
          -0.15924355387687683,
          null,
          0.6212067604064941,
          0.6335476040840149,
          null,
          0.24035044014453888,
          0.34472087025642395,
          null
         ],
         "z": [
          0.04184364899992943,
          0.008014578372240067,
          null,
          0.3945753872394562,
          0.518169641494751,
          null,
          0.4503977298736572,
          0.518169641494751,
          null,
          0.6056321859359741,
          0.5967769622802734,
          null,
          0.27308982610702515,
          0.3945753872394562,
          null,
          0.0021719932556152344,
          -0.3521958887577057,
          null,
          -0.5564253330230713,
          -0.5862042307853699,
          null,
          0.4302227795124054,
          0.0021719932556152344,
          null,
          -0.6138113141059875,
          -0.6717439889907837,
          null,
          0.6009976863861084,
          0.5498430132865906,
          null,
          0.04184364899992943,
          0.01517985388636589,
          null,
          0.0017554694786667824,
          -0.19507525861263275,
          null,
          0.3945753872394562,
          0.4254339635372162,
          null,
          0.6146583557128906,
          0.6139718890190125,
          null,
          0.6139718890190125,
          0.6009976863861084,
          null,
          -0.647088885307312,
          -0.6717439889907837,
          null,
          0.4746372401714325,
          0.0017554694786667824,
          null,
          0.0021719932556152344,
          0.0017554694786667824,
          null,
          0.5826950669288635,
          0.6041898131370544,
          null,
          0.5730794072151184,
          0.539247453212738,
          null,
          0.6041898131370544,
          0.6039777994155884,
          null,
          0.5826950669288635,
          0.6146583557128906,
          null,
          0.4302227795124054,
          0.23941972851753235,
          null,
          -0.5862042307853699,
          -0.6094896793365479,
          null,
          -0.5564253330230713,
          -0.6094896793365479,
          null,
          0.04184364899992943,
          -0.009911272674798965,
          null,
          0.3945753872394562,
          0.4503977298736572,
          null,
          -0.3521958887577057,
          -0.6138113141059875,
          null,
          -0.19507525861263275,
          -0.5564253330230713,
          null,
          0.4746372401714325,
          0.27308982610702515,
          null,
          0.01517985388636589,
          -0.009911272674798965,
          null,
          0.6039777994155884,
          0.6056321859359741,
          null,
          0.4302227795124054,
          0.4746372401714325,
          null,
          -0.6138113141059875,
          -0.647088885307312,
          null,
          0.23941972851753235,
          0.04184364899992943,
          null
         ]
        }
       ],
       "layout": {
        "legend": {
         "tracegroupgap": 0
        },
        "margin": {
         "b": 0,
         "l": 0,
         "r": 0,
         "t": 0
        },
        "scene": {
         "camera": {
          "eye": {
           "x": 2.1,
           "y": 0,
           "z": 0
          }
         },
         "domain": {
          "x": [
           0,
           1
          ],
          "y": [
           0,
           1
          ]
         },
         "xaxis": {
          "title": {
           "text": "z"
          }
         },
         "yaxis": {
          "title": {
           "text": "x"
          }
         },
         "zaxis": {
          "title": {
           "text": "y"
          }
         }
        },
        "template": {
         "data": {
          "bar": [
           {
            "error_x": {
             "color": "#2a3f5f"
            },
            "error_y": {
             "color": "#2a3f5f"
            },
            "marker": {
             "line": {
              "color": "#E5ECF6",
              "width": 0.5
             },
             "pattern": {
              "fillmode": "overlay",
              "size": 10,
              "solidity": 0.2
             }
            },
            "type": "bar"
           }
          ],
          "barpolar": [
           {
            "marker": {
             "line": {
              "color": "#E5ECF6",
              "width": 0.5
             },
             "pattern": {
              "fillmode": "overlay",
              "size": 10,
              "solidity": 0.2
             }
            },
            "type": "barpolar"
           }
          ],
          "carpet": [
           {
            "aaxis": {
             "endlinecolor": "#2a3f5f",
             "gridcolor": "white",
             "linecolor": "white",
             "minorgridcolor": "white",
             "startlinecolor": "#2a3f5f"
            },
            "baxis": {
             "endlinecolor": "#2a3f5f",
             "gridcolor": "white",
             "linecolor": "white",
             "minorgridcolor": "white",
             "startlinecolor": "#2a3f5f"
            },
            "type": "carpet"
           }
          ],
          "choropleth": [
           {
            "colorbar": {
             "outlinewidth": 0,
             "ticks": ""
            },
            "type": "choropleth"
           }
          ],
          "contour": [
           {
            "colorbar": {
             "outlinewidth": 0,
             "ticks": ""
            },
            "colorscale": [
             [
              0,
              "#0d0887"
             ],
             [
              0.1111111111111111,
              "#46039f"
             ],
             [
              0.2222222222222222,
              "#7201a8"
             ],
             [
              0.3333333333333333,
              "#9c179e"
             ],
             [
              0.4444444444444444,
              "#bd3786"
             ],
             [
              0.5555555555555556,
              "#d8576b"
             ],
             [
              0.6666666666666666,
              "#ed7953"
             ],
             [
              0.7777777777777778,
              "#fb9f3a"
             ],
             [
              0.8888888888888888,
              "#fdca26"
             ],
             [
              1,
              "#f0f921"
             ]
            ],
            "type": "contour"
           }
          ],
          "contourcarpet": [
           {
            "colorbar": {
             "outlinewidth": 0,
             "ticks": ""
            },
            "type": "contourcarpet"
           }
          ],
          "heatmap": [
           {
            "colorbar": {
             "outlinewidth": 0,
             "ticks": ""
            },
            "colorscale": [
             [
              0,
              "#0d0887"
             ],
             [
              0.1111111111111111,
              "#46039f"
             ],
             [
              0.2222222222222222,
              "#7201a8"
             ],
             [
              0.3333333333333333,
              "#9c179e"
             ],
             [
              0.4444444444444444,
              "#bd3786"
             ],
             [
              0.5555555555555556,
              "#d8576b"
             ],
             [
              0.6666666666666666,
              "#ed7953"
             ],
             [
              0.7777777777777778,
              "#fb9f3a"
             ],
             [
              0.8888888888888888,
              "#fdca26"
             ],
             [
              1,
              "#f0f921"
             ]
            ],
            "type": "heatmap"
           }
          ],
          "heatmapgl": [
           {
            "colorbar": {
             "outlinewidth": 0,
             "ticks": ""
            },
            "colorscale": [
             [
              0,
              "#0d0887"
             ],
             [
              0.1111111111111111,
              "#46039f"
             ],
             [
              0.2222222222222222,
              "#7201a8"
             ],
             [
              0.3333333333333333,
              "#9c179e"
             ],
             [
              0.4444444444444444,
              "#bd3786"
             ],
             [
              0.5555555555555556,
              "#d8576b"
             ],
             [
              0.6666666666666666,
              "#ed7953"
             ],
             [
              0.7777777777777778,
              "#fb9f3a"
             ],
             [
              0.8888888888888888,
              "#fdca26"
             ],
             [
              1,
              "#f0f921"
             ]
            ],
            "type": "heatmapgl"
           }
          ],
          "histogram": [
           {
            "marker": {
             "pattern": {
              "fillmode": "overlay",
              "size": 10,
              "solidity": 0.2
             }
            },
            "type": "histogram"
           }
          ],
          "histogram2d": [
           {
            "colorbar": {
             "outlinewidth": 0,
             "ticks": ""
            },
            "colorscale": [
             [
              0,
              "#0d0887"
             ],
             [
              0.1111111111111111,
              "#46039f"
             ],
             [
              0.2222222222222222,
              "#7201a8"
             ],
             [
              0.3333333333333333,
              "#9c179e"
             ],
             [
              0.4444444444444444,
              "#bd3786"
             ],
             [
              0.5555555555555556,
              "#d8576b"
             ],
             [
              0.6666666666666666,
              "#ed7953"
             ],
             [
              0.7777777777777778,
              "#fb9f3a"
             ],
             [
              0.8888888888888888,
              "#fdca26"
             ],
             [
              1,
              "#f0f921"
             ]
            ],
            "type": "histogram2d"
           }
          ],
          "histogram2dcontour": [
           {
            "colorbar": {
             "outlinewidth": 0,
             "ticks": ""
            },
            "colorscale": [
             [
              0,
              "#0d0887"
             ],
             [
              0.1111111111111111,
              "#46039f"
             ],
             [
              0.2222222222222222,
              "#7201a8"
             ],
             [
              0.3333333333333333,
              "#9c179e"
             ],
             [
              0.4444444444444444,
              "#bd3786"
             ],
             [
              0.5555555555555556,
              "#d8576b"
             ],
             [
              0.6666666666666666,
              "#ed7953"
             ],
             [
              0.7777777777777778,
              "#fb9f3a"
             ],
             [
              0.8888888888888888,
              "#fdca26"
             ],
             [
              1,
              "#f0f921"
             ]
            ],
            "type": "histogram2dcontour"
           }
          ],
          "mesh3d": [
           {
            "colorbar": {
             "outlinewidth": 0,
             "ticks": ""
            },
            "type": "mesh3d"
           }
          ],
          "parcoords": [
           {
            "line": {
             "colorbar": {
              "outlinewidth": 0,
              "ticks": ""
             }
            },
            "type": "parcoords"
           }
          ],
          "pie": [
           {
            "automargin": true,
            "type": "pie"
           }
          ],
          "scatter": [
           {
            "fillpattern": {
             "fillmode": "overlay",
             "size": 10,
             "solidity": 0.2
            },
            "type": "scatter"
           }
          ],
          "scatter3d": [
           {
            "line": {
             "colorbar": {
              "outlinewidth": 0,
              "ticks": ""
             }
            },
            "marker": {
             "colorbar": {
              "outlinewidth": 0,
              "ticks": ""
             }
            },
            "type": "scatter3d"
           }
          ],
          "scattercarpet": [
           {
            "marker": {
             "colorbar": {
              "outlinewidth": 0,
              "ticks": ""
             }
            },
            "type": "scattercarpet"
           }
          ],
          "scattergeo": [
           {
            "marker": {
             "colorbar": {
              "outlinewidth": 0,
              "ticks": ""
             }
            },
            "type": "scattergeo"
           }
          ],
          "scattergl": [
           {
            "marker": {
             "colorbar": {
              "outlinewidth": 0,
              "ticks": ""
             }
            },
            "type": "scattergl"
           }
          ],
          "scattermapbox": [
           {
            "marker": {
             "colorbar": {
              "outlinewidth": 0,
              "ticks": ""
             }
            },
            "type": "scattermapbox"
           }
          ],
          "scatterpolar": [
           {
            "marker": {
             "colorbar": {
              "outlinewidth": 0,
              "ticks": ""
             }
            },
            "type": "scatterpolar"
           }
          ],
          "scatterpolargl": [
           {
            "marker": {
             "colorbar": {
              "outlinewidth": 0,
              "ticks": ""
             }
            },
            "type": "scatterpolargl"
           }
          ],
          "scatterternary": [
           {
            "marker": {
             "colorbar": {
              "outlinewidth": 0,
              "ticks": ""
             }
            },
            "type": "scatterternary"
           }
          ],
          "surface": [
           {
            "colorbar": {
             "outlinewidth": 0,
             "ticks": ""
            },
            "colorscale": [
             [
              0,
              "#0d0887"
             ],
             [
              0.1111111111111111,
              "#46039f"
             ],
             [
              0.2222222222222222,
              "#7201a8"
             ],
             [
              0.3333333333333333,
              "#9c179e"
             ],
             [
              0.4444444444444444,
              "#bd3786"
             ],
             [
              0.5555555555555556,
              "#d8576b"
             ],
             [
              0.6666666666666666,
              "#ed7953"
             ],
             [
              0.7777777777777778,
              "#fb9f3a"
             ],
             [
              0.8888888888888888,
              "#fdca26"
             ],
             [
              1,
              "#f0f921"
             ]
            ],
            "type": "surface"
           }
          ],
          "table": [
           {
            "cells": {
             "fill": {
              "color": "#EBF0F8"
             },
             "line": {
              "color": "white"
             }
            },
            "header": {
             "fill": {
              "color": "#C8D4E3"
             },
             "line": {
              "color": "white"
             }
            },
            "type": "table"
           }
          ]
         },
         "layout": {
          "annotationdefaults": {
           "arrowcolor": "#2a3f5f",
           "arrowhead": 0,
           "arrowwidth": 1
          },
          "autotypenumbers": "strict",
          "coloraxis": {
           "colorbar": {
            "outlinewidth": 0,
            "ticks": ""
           }
          },
          "colorscale": {
           "diverging": [
            [
             0,
             "#8e0152"
            ],
            [
             0.1,
             "#c51b7d"
            ],
            [
             0.2,
             "#de77ae"
            ],
            [
             0.3,
             "#f1b6da"
            ],
            [
             0.4,
             "#fde0ef"
            ],
            [
             0.5,
             "#f7f7f7"
            ],
            [
             0.6,
             "#e6f5d0"
            ],
            [
             0.7,
             "#b8e186"
            ],
            [
             0.8,
             "#7fbc41"
            ],
            [
             0.9,
             "#4d9221"
            ],
            [
             1,
             "#276419"
            ]
           ],
           "sequential": [
            [
             0,
             "#0d0887"
            ],
            [
             0.1111111111111111,
             "#46039f"
            ],
            [
             0.2222222222222222,
             "#7201a8"
            ],
            [
             0.3333333333333333,
             "#9c179e"
            ],
            [
             0.4444444444444444,
             "#bd3786"
            ],
            [
             0.5555555555555556,
             "#d8576b"
            ],
            [
             0.6666666666666666,
             "#ed7953"
            ],
            [
             0.7777777777777778,
             "#fb9f3a"
            ],
            [
             0.8888888888888888,
             "#fdca26"
            ],
            [
             1,
             "#f0f921"
            ]
           ],
           "sequentialminus": [
            [
             0,
             "#0d0887"
            ],
            [
             0.1111111111111111,
             "#46039f"
            ],
            [
             0.2222222222222222,
             "#7201a8"
            ],
            [
             0.3333333333333333,
             "#9c179e"
            ],
            [
             0.4444444444444444,
             "#bd3786"
            ],
            [
             0.5555555555555556,
             "#d8576b"
            ],
            [
             0.6666666666666666,
             "#ed7953"
            ],
            [
             0.7777777777777778,
             "#fb9f3a"
            ],
            [
             0.8888888888888888,
             "#fdca26"
            ],
            [
             1,
             "#f0f921"
            ]
           ]
          },
          "colorway": [
           "#636efa",
           "#EF553B",
           "#00cc96",
           "#ab63fa",
           "#FFA15A",
           "#19d3f3",
           "#FF6692",
           "#B6E880",
           "#FF97FF",
           "#FECB52"
          ],
          "font": {
           "color": "#2a3f5f"
          },
          "geo": {
           "bgcolor": "white",
           "lakecolor": "white",
           "landcolor": "#E5ECF6",
           "showlakes": true,
           "showland": true,
           "subunitcolor": "white"
          },
          "hoverlabel": {
           "align": "left"
          },
          "hovermode": "closest",
          "mapbox": {
           "style": "light"
          },
          "paper_bgcolor": "white",
          "plot_bgcolor": "#E5ECF6",
          "polar": {
           "angularaxis": {
            "gridcolor": "white",
            "linecolor": "white",
            "ticks": ""
           },
           "bgcolor": "#E5ECF6",
           "radialaxis": {
            "gridcolor": "white",
            "linecolor": "white",
            "ticks": ""
           }
          },
          "scene": {
           "xaxis": {
            "backgroundcolor": "#E5ECF6",
            "gridcolor": "white",
            "gridwidth": 2,
            "linecolor": "white",
            "showbackground": true,
            "ticks": "",
            "zerolinecolor": "white"
           },
           "yaxis": {
            "backgroundcolor": "#E5ECF6",
            "gridcolor": "white",
            "gridwidth": 2,
            "linecolor": "white",
            "showbackground": true,
            "ticks": "",
            "zerolinecolor": "white"
           },
           "zaxis": {
            "backgroundcolor": "#E5ECF6",
            "gridcolor": "white",
            "gridwidth": 2,
            "linecolor": "white",
            "showbackground": true,
            "ticks": "",
            "zerolinecolor": "white"
           }
          },
          "shapedefaults": {
           "line": {
            "color": "#2a3f5f"
           }
          },
          "ternary": {
           "aaxis": {
            "gridcolor": "white",
            "linecolor": "white",
            "ticks": ""
           },
           "baxis": {
            "gridcolor": "white",
            "linecolor": "white",
            "ticks": ""
           },
           "bgcolor": "#E5ECF6",
           "caxis": {
            "gridcolor": "white",
            "linecolor": "white",
            "ticks": ""
           }
          },
          "title": {
           "x": 0.05
          },
          "xaxis": {
           "automargin": true,
           "gridcolor": "white",
           "linecolor": "white",
           "ticks": "",
           "title": {
            "standoff": 15
           },
           "zerolinecolor": "white",
           "zerolinewidth": 2
          },
          "yaxis": {
           "automargin": true,
           "gridcolor": "white",
           "linecolor": "white",
           "ticks": "",
           "title": {
            "standoff": 15
           },
           "zerolinecolor": "white",
           "zerolinewidth": 2
          }
         }
        }
       }
      }
     },
     "metadata": {},
     "output_type": "display_data"
    },
    {
     "data": {
      "application/vnd.plotly.v1+json": {
       "config": {
        "plotlyServerURL": "https://plot.ly"
       },
       "data": [
        {
         "hovertemplate": "<b>%{hovertext}</b><br><br>z=%{x}<br>x=%{y}<br>y=%{z}<extra></extra>",
         "hovertext": [
          "NOSE",
          "LEFT_EYE_INNER",
          "LEFT_EYE",
          "LEFT_EYE_OUTER",
          "RIGHT_EYE_INNER",
          "RIGHT_EYE",
          "RIGHT_EYE_OUTER",
          "LEFT_EAR",
          "RIGHT_EAR",
          "MOUTH_LEFT",
          "MOUTH_RIGHT",
          "LEFT_SHOULDER",
          "RIGHT_SHOULDER",
          "LEFT_ELBOW",
          "LEFT_WRIST",
          "LEFT_PINKY",
          "LEFT_INDEX",
          "LEFT_THUMB",
          "LEFT_HIP",
          "RIGHT_HIP",
          "LEFT_KNEE",
          "RIGHT_KNEE",
          "LEFT_ANKLE",
          "RIGHT_ANKLE",
          "LEFT_HEEL",
          "RIGHT_HEEL",
          "LEFT_FOOT_INDEX",
          "RIGHT_FOOT_INDEX"
         ],
         "legendgroup": "",
         "marker": {
          "color": "red",
          "symbol": "circle"
         },
         "mode": "markers",
         "name": "",
         "scene": "scene",
         "showlegend": false,
         "type": "scatter3d",
         "x": [
          0.28689610958099365,
          0.2929195165634155,
          0.2799440622329712,
          0.28363215923309326,
          0.28741538524627686,
          0.29985511302948,
          0.2789076566696167,
          0.23927092552185059,
          0.15675504505634308,
          0.2551952600479126,
          0.2579824924468994,
          0.17658385634422302,
          -0.06690561771392822,
          0.21471251547336578,
          0.1954675316810608,
          0.20681512355804443,
          0.2196873426437378,
          0.19987131655216217,
          0.046417027711868286,
          -0.04720103740692139,
          0.04166901111602783,
          -0.07674527168273926,
          -0.06429822742938995,
          -0.18915700912475586,
          -0.07523679733276367,
          -0.15992605686187744,
          0.0006316900253295898,
          -0.10586482286453247
         ],
         "y": [
          -0.07177307456731796,
          -0.03906301036477089,
          -0.037141911685466766,
          -0.037818267941474915,
          -0.05659089609980583,
          -0.05582483112812042,
          -0.050738878548145294,
          0.07031470537185669,
          -0.03714201971888542,
          -0.021121546626091003,
          -0.04784078150987625,
          0.14639392495155334,
          -0.05508575215935707,
          0.16845454275608063,
          0.13778367638587952,
          0.1251712143421173,
          0.08804820477962494,
          0.12826021015644073,
          0.06447300314903259,
          -0.06172109767794609,
          0.10160644352436066,
          -0.013765032403171062,
          0.14382503926753998,
          0.010523255914449692,
          0.12203460931777954,
          0.00917406752705574,
          0.0014051645994186401,
          -0.08216159045696259
         ],
         "z": [
          0.6557230949401855,
          0.6753987073898315,
          0.6734861731529236,
          0.6755843758583069,
          0.6875157952308655,
          0.6860533952713013,
          0.6727977395057678,
          0.6541370153427124,
          0.622604250907898,
          0.6405635476112366,
          0.6113617420196533,
          0.470476359128952,
          0.5468651652336121,
          0.25626975297927856,
          0.019183315336704254,
          -0.03379841521382332,
          -0.0478534922003746,
          -0.013990027830004692,
          -0.006160496734082699,
          0.009111461229622364,
          -0.3901118040084839,
          -0.3188186287879944,
          -0.7422633171081543,
          -0.729203462600708,
          -0.7791619300842285,
          -0.7627187371253967,
          -0.7788420915603638,
          -0.7596389651298523
         ]
        },
        {
         "line": {
          "color": "black",
          "width": 5
         },
         "mode": "lines",
         "name": "connections",
         "type": "scatter3d",
         "x": [
          0.1954675316810608,
          0.19987131655216217,
          null,
          0.28363215923309326,
          0.23927092552185059,
          null,
          0.046417027711868286,
          0.04166901111602783,
          null,
          -0.18915700912475586,
          -0.15992605686187744,
          null,
          0.17658385634422302,
          0.046417027711868286,
          null,
          -0.06429822742938995,
          0.0006316900253295898,
          null,
          0.2789076566696167,
          0.15675504505634308,
          null,
          0.1954675316810608,
          0.20681512355804443,
          null,
          -0.04720103740692139,
          -0.07674527168273926,
          null,
          0.28741538524627686,
          0.29985511302948,
          null,
          0.29985511302948,
          0.2789076566696167,
          null,
          -0.07523679733276367,
          0.0006316900253295898,
          null,
          -0.06690561771392822,
          -0.04720103740692139,
          null,
          0.046417027711868286,
          -0.04720103740692139,
          null,
          0.28689610958099365,
          0.2929195165634155,
          null,
          0.2551952600479126,
          0.2579824924468994,
          null,
          0.2929195165634155,
          0.2799440622329712,
          null,
          0.28689610958099365,
          0.28741538524627686,
          null,
          0.17658385634422302,
          0.21471251547336578,
          null,
          -0.15992605686187744,
          -0.10586482286453247,
          null,
          -0.18915700912475586,
          -0.10586482286453247,
          null,
          0.1954675316810608,
          0.2196873426437378,
          null,
          0.04166901111602783,
          -0.06429822742938995,
          null,
          -0.07674527168273926,
          -0.18915700912475586,
          null,
          0.20681512355804443,
          0.2196873426437378,
          null,
          0.2799440622329712,
          0.28363215923309326,
          null,
          0.17658385634422302,
          -0.06690561771392822,
          null,
          -0.06429822742938995,
          -0.07523679733276367,
          null,
          0.21471251547336578,
          0.1954675316810608,
          null
         ],
         "y": [
          0.13778367638587952,
          0.12826021015644073,
          null,
          -0.037818267941474915,
          0.07031470537185669,
          null,
          0.06447300314903259,
          0.10160644352436066,
          null,
          0.010523255914449692,
          0.00917406752705574,
          null,
          0.14639392495155334,
          0.06447300314903259,
          null,
          0.14382503926753998,
          0.0014051645994186401,
          null,
          -0.050738878548145294,
          -0.03714201971888542,
          null,
          0.13778367638587952,
          0.1251712143421173,
          null,
          -0.06172109767794609,
          -0.013765032403171062,
          null,
          -0.05659089609980583,
          -0.05582483112812042,
          null,
          -0.05582483112812042,
          -0.050738878548145294,
          null,
          0.12203460931777954,
          0.0014051645994186401,
          null,
          -0.05508575215935707,
          -0.06172109767794609,
          null,
          0.06447300314903259,
          -0.06172109767794609,
          null,
          -0.07177307456731796,
          -0.03906301036477089,
          null,
          -0.021121546626091003,
          -0.04784078150987625,
          null,
          -0.03906301036477089,
          -0.037141911685466766,
          null,
          -0.07177307456731796,
          -0.05659089609980583,
          null,
          0.14639392495155334,
          0.16845454275608063,
          null,
          0.00917406752705574,
          -0.08216159045696259,
          null,
          0.010523255914449692,
          -0.08216159045696259,
          null,
          0.13778367638587952,
          0.08804820477962494,
          null,
          0.10160644352436066,
          0.14382503926753998,
          null,
          -0.013765032403171062,
          0.010523255914449692,
          null,
          0.1251712143421173,
          0.08804820477962494,
          null,
          -0.037141911685466766,
          -0.037818267941474915,
          null,
          0.14639392495155334,
          -0.05508575215935707,
          null,
          0.14382503926753998,
          0.12203460931777954,
          null,
          0.16845454275608063,
          0.13778367638587952,
          null
         ],
         "z": [
          0.019183315336704254,
          -0.013990027830004692,
          null,
          0.6755843758583069,
          0.6541370153427124,
          null,
          -0.006160496734082699,
          -0.3901118040084839,
          null,
          -0.729203462600708,
          -0.7627187371253967,
          null,
          0.470476359128952,
          -0.006160496734082699,
          null,
          -0.7422633171081543,
          -0.7788420915603638,
          null,
          0.6727977395057678,
          0.622604250907898,
          null,
          0.019183315336704254,
          -0.03379841521382332,
          null,
          0.009111461229622364,
          -0.3188186287879944,
          null,
          0.6875157952308655,
          0.6860533952713013,
          null,
          0.6860533952713013,
          0.6727977395057678,
          null,
          -0.7791619300842285,
          -0.7788420915603638,
          null,
          0.5468651652336121,
          0.009111461229622364,
          null,
          -0.006160496734082699,
          0.009111461229622364,
          null,
          0.6557230949401855,
          0.6753987073898315,
          null,
          0.6405635476112366,
          0.6113617420196533,
          null,
          0.6753987073898315,
          0.6734861731529236,
          null,
          0.6557230949401855,
          0.6875157952308655,
          null,
          0.470476359128952,
          0.25626975297927856,
          null,
          -0.7627187371253967,
          -0.7596389651298523,
          null,
          -0.729203462600708,
          -0.7596389651298523,
          null,
          0.019183315336704254,
          -0.0478534922003746,
          null,
          -0.3901118040084839,
          -0.7422633171081543,
          null,
          -0.3188186287879944,
          -0.729203462600708,
          null,
          -0.03379841521382332,
          -0.0478534922003746,
          null,
          0.6734861731529236,
          0.6755843758583069,
          null,
          0.470476359128952,
          0.5468651652336121,
          null,
          -0.7422633171081543,
          -0.7791619300842285,
          null,
          0.25626975297927856,
          0.019183315336704254,
          null
         ]
        }
       ],
       "layout": {
        "legend": {
         "tracegroupgap": 0
        },
        "margin": {
         "b": 0,
         "l": 0,
         "r": 0,
         "t": 0
        },
        "scene": {
         "camera": {
          "eye": {
           "x": 2.1,
           "y": 0,
           "z": 0
          }
         },
         "domain": {
          "x": [
           0,
           1
          ],
          "y": [
           0,
           1
          ]
         },
         "xaxis": {
          "title": {
           "text": "z"
          }
         },
         "yaxis": {
          "title": {
           "text": "x"
          }
         },
         "zaxis": {
          "title": {
           "text": "y"
          }
         }
        },
        "template": {
         "data": {
          "bar": [
           {
            "error_x": {
             "color": "#2a3f5f"
            },
            "error_y": {
             "color": "#2a3f5f"
            },
            "marker": {
             "line": {
              "color": "#E5ECF6",
              "width": 0.5
             },
             "pattern": {
              "fillmode": "overlay",
              "size": 10,
              "solidity": 0.2
             }
            },
            "type": "bar"
           }
          ],
          "barpolar": [
           {
            "marker": {
             "line": {
              "color": "#E5ECF6",
              "width": 0.5
             },
             "pattern": {
              "fillmode": "overlay",
              "size": 10,
              "solidity": 0.2
             }
            },
            "type": "barpolar"
           }
          ],
          "carpet": [
           {
            "aaxis": {
             "endlinecolor": "#2a3f5f",
             "gridcolor": "white",
             "linecolor": "white",
             "minorgridcolor": "white",
             "startlinecolor": "#2a3f5f"
            },
            "baxis": {
             "endlinecolor": "#2a3f5f",
             "gridcolor": "white",
             "linecolor": "white",
             "minorgridcolor": "white",
             "startlinecolor": "#2a3f5f"
            },
            "type": "carpet"
           }
          ],
          "choropleth": [
           {
            "colorbar": {
             "outlinewidth": 0,
             "ticks": ""
            },
            "type": "choropleth"
           }
          ],
          "contour": [
           {
            "colorbar": {
             "outlinewidth": 0,
             "ticks": ""
            },
            "colorscale": [
             [
              0,
              "#0d0887"
             ],
             [
              0.1111111111111111,
              "#46039f"
             ],
             [
              0.2222222222222222,
              "#7201a8"
             ],
             [
              0.3333333333333333,
              "#9c179e"
             ],
             [
              0.4444444444444444,
              "#bd3786"
             ],
             [
              0.5555555555555556,
              "#d8576b"
             ],
             [
              0.6666666666666666,
              "#ed7953"
             ],
             [
              0.7777777777777778,
              "#fb9f3a"
             ],
             [
              0.8888888888888888,
              "#fdca26"
             ],
             [
              1,
              "#f0f921"
             ]
            ],
            "type": "contour"
           }
          ],
          "contourcarpet": [
           {
            "colorbar": {
             "outlinewidth": 0,
             "ticks": ""
            },
            "type": "contourcarpet"
           }
          ],
          "heatmap": [
           {
            "colorbar": {
             "outlinewidth": 0,
             "ticks": ""
            },
            "colorscale": [
             [
              0,
              "#0d0887"
             ],
             [
              0.1111111111111111,
              "#46039f"
             ],
             [
              0.2222222222222222,
              "#7201a8"
             ],
             [
              0.3333333333333333,
              "#9c179e"
             ],
             [
              0.4444444444444444,
              "#bd3786"
             ],
             [
              0.5555555555555556,
              "#d8576b"
             ],
             [
              0.6666666666666666,
              "#ed7953"
             ],
             [
              0.7777777777777778,
              "#fb9f3a"
             ],
             [
              0.8888888888888888,
              "#fdca26"
             ],
             [
              1,
              "#f0f921"
             ]
            ],
            "type": "heatmap"
           }
          ],
          "heatmapgl": [
           {
            "colorbar": {
             "outlinewidth": 0,
             "ticks": ""
            },
            "colorscale": [
             [
              0,
              "#0d0887"
             ],
             [
              0.1111111111111111,
              "#46039f"
             ],
             [
              0.2222222222222222,
              "#7201a8"
             ],
             [
              0.3333333333333333,
              "#9c179e"
             ],
             [
              0.4444444444444444,
              "#bd3786"
             ],
             [
              0.5555555555555556,
              "#d8576b"
             ],
             [
              0.6666666666666666,
              "#ed7953"
             ],
             [
              0.7777777777777778,
              "#fb9f3a"
             ],
             [
              0.8888888888888888,
              "#fdca26"
             ],
             [
              1,
              "#f0f921"
             ]
            ],
            "type": "heatmapgl"
           }
          ],
          "histogram": [
           {
            "marker": {
             "pattern": {
              "fillmode": "overlay",
              "size": 10,
              "solidity": 0.2
             }
            },
            "type": "histogram"
           }
          ],
          "histogram2d": [
           {
            "colorbar": {
             "outlinewidth": 0,
             "ticks": ""
            },
            "colorscale": [
             [
              0,
              "#0d0887"
             ],
             [
              0.1111111111111111,
              "#46039f"
             ],
             [
              0.2222222222222222,
              "#7201a8"
             ],
             [
              0.3333333333333333,
              "#9c179e"
             ],
             [
              0.4444444444444444,
              "#bd3786"
             ],
             [
              0.5555555555555556,
              "#d8576b"
             ],
             [
              0.6666666666666666,
              "#ed7953"
             ],
             [
              0.7777777777777778,
              "#fb9f3a"
             ],
             [
              0.8888888888888888,
              "#fdca26"
             ],
             [
              1,
              "#f0f921"
             ]
            ],
            "type": "histogram2d"
           }
          ],
          "histogram2dcontour": [
           {
            "colorbar": {
             "outlinewidth": 0,
             "ticks": ""
            },
            "colorscale": [
             [
              0,
              "#0d0887"
             ],
             [
              0.1111111111111111,
              "#46039f"
             ],
             [
              0.2222222222222222,
              "#7201a8"
             ],
             [
              0.3333333333333333,
              "#9c179e"
             ],
             [
              0.4444444444444444,
              "#bd3786"
             ],
             [
              0.5555555555555556,
              "#d8576b"
             ],
             [
              0.6666666666666666,
              "#ed7953"
             ],
             [
              0.7777777777777778,
              "#fb9f3a"
             ],
             [
              0.8888888888888888,
              "#fdca26"
             ],
             [
              1,
              "#f0f921"
             ]
            ],
            "type": "histogram2dcontour"
           }
          ],
          "mesh3d": [
           {
            "colorbar": {
             "outlinewidth": 0,
             "ticks": ""
            },
            "type": "mesh3d"
           }
          ],
          "parcoords": [
           {
            "line": {
             "colorbar": {
              "outlinewidth": 0,
              "ticks": ""
             }
            },
            "type": "parcoords"
           }
          ],
          "pie": [
           {
            "automargin": true,
            "type": "pie"
           }
          ],
          "scatter": [
           {
            "fillpattern": {
             "fillmode": "overlay",
             "size": 10,
             "solidity": 0.2
            },
            "type": "scatter"
           }
          ],
          "scatter3d": [
           {
            "line": {
             "colorbar": {
              "outlinewidth": 0,
              "ticks": ""
             }
            },
            "marker": {
             "colorbar": {
              "outlinewidth": 0,
              "ticks": ""
             }
            },
            "type": "scatter3d"
           }
          ],
          "scattercarpet": [
           {
            "marker": {
             "colorbar": {
              "outlinewidth": 0,
              "ticks": ""
             }
            },
            "type": "scattercarpet"
           }
          ],
          "scattergeo": [
           {
            "marker": {
             "colorbar": {
              "outlinewidth": 0,
              "ticks": ""
             }
            },
            "type": "scattergeo"
           }
          ],
          "scattergl": [
           {
            "marker": {
             "colorbar": {
              "outlinewidth": 0,
              "ticks": ""
             }
            },
            "type": "scattergl"
           }
          ],
          "scattermapbox": [
           {
            "marker": {
             "colorbar": {
              "outlinewidth": 0,
              "ticks": ""
             }
            },
            "type": "scattermapbox"
           }
          ],
          "scatterpolar": [
           {
            "marker": {
             "colorbar": {
              "outlinewidth": 0,
              "ticks": ""
             }
            },
            "type": "scatterpolar"
           }
          ],
          "scatterpolargl": [
           {
            "marker": {
             "colorbar": {
              "outlinewidth": 0,
              "ticks": ""
             }
            },
            "type": "scatterpolargl"
           }
          ],
          "scatterternary": [
           {
            "marker": {
             "colorbar": {
              "outlinewidth": 0,
              "ticks": ""
             }
            },
            "type": "scatterternary"
           }
          ],
          "surface": [
           {
            "colorbar": {
             "outlinewidth": 0,
             "ticks": ""
            },
            "colorscale": [
             [
              0,
              "#0d0887"
             ],
             [
              0.1111111111111111,
              "#46039f"
             ],
             [
              0.2222222222222222,
              "#7201a8"
             ],
             [
              0.3333333333333333,
              "#9c179e"
             ],
             [
              0.4444444444444444,
              "#bd3786"
             ],
             [
              0.5555555555555556,
              "#d8576b"
             ],
             [
              0.6666666666666666,
              "#ed7953"
             ],
             [
              0.7777777777777778,
              "#fb9f3a"
             ],
             [
              0.8888888888888888,
              "#fdca26"
             ],
             [
              1,
              "#f0f921"
             ]
            ],
            "type": "surface"
           }
          ],
          "table": [
           {
            "cells": {
             "fill": {
              "color": "#EBF0F8"
             },
             "line": {
              "color": "white"
             }
            },
            "header": {
             "fill": {
              "color": "#C8D4E3"
             },
             "line": {
              "color": "white"
             }
            },
            "type": "table"
           }
          ]
         },
         "layout": {
          "annotationdefaults": {
           "arrowcolor": "#2a3f5f",
           "arrowhead": 0,
           "arrowwidth": 1
          },
          "autotypenumbers": "strict",
          "coloraxis": {
           "colorbar": {
            "outlinewidth": 0,
            "ticks": ""
           }
          },
          "colorscale": {
           "diverging": [
            [
             0,
             "#8e0152"
            ],
            [
             0.1,
             "#c51b7d"
            ],
            [
             0.2,
             "#de77ae"
            ],
            [
             0.3,
             "#f1b6da"
            ],
            [
             0.4,
             "#fde0ef"
            ],
            [
             0.5,
             "#f7f7f7"
            ],
            [
             0.6,
             "#e6f5d0"
            ],
            [
             0.7,
             "#b8e186"
            ],
            [
             0.8,
             "#7fbc41"
            ],
            [
             0.9,
             "#4d9221"
            ],
            [
             1,
             "#276419"
            ]
           ],
           "sequential": [
            [
             0,
             "#0d0887"
            ],
            [
             0.1111111111111111,
             "#46039f"
            ],
            [
             0.2222222222222222,
             "#7201a8"
            ],
            [
             0.3333333333333333,
             "#9c179e"
            ],
            [
             0.4444444444444444,
             "#bd3786"
            ],
            [
             0.5555555555555556,
             "#d8576b"
            ],
            [
             0.6666666666666666,
             "#ed7953"
            ],
            [
             0.7777777777777778,
             "#fb9f3a"
            ],
            [
             0.8888888888888888,
             "#fdca26"
            ],
            [
             1,
             "#f0f921"
            ]
           ],
           "sequentialminus": [
            [
             0,
             "#0d0887"
            ],
            [
             0.1111111111111111,
             "#46039f"
            ],
            [
             0.2222222222222222,
             "#7201a8"
            ],
            [
             0.3333333333333333,
             "#9c179e"
            ],
            [
             0.4444444444444444,
             "#bd3786"
            ],
            [
             0.5555555555555556,
             "#d8576b"
            ],
            [
             0.6666666666666666,
             "#ed7953"
            ],
            [
             0.7777777777777778,
             "#fb9f3a"
            ],
            [
             0.8888888888888888,
             "#fdca26"
            ],
            [
             1,
             "#f0f921"
            ]
           ]
          },
          "colorway": [
           "#636efa",
           "#EF553B",
           "#00cc96",
           "#ab63fa",
           "#FFA15A",
           "#19d3f3",
           "#FF6692",
           "#B6E880",
           "#FF97FF",
           "#FECB52"
          ],
          "font": {
           "color": "#2a3f5f"
          },
          "geo": {
           "bgcolor": "white",
           "lakecolor": "white",
           "landcolor": "#E5ECF6",
           "showlakes": true,
           "showland": true,
           "subunitcolor": "white"
          },
          "hoverlabel": {
           "align": "left"
          },
          "hovermode": "closest",
          "mapbox": {
           "style": "light"
          },
          "paper_bgcolor": "white",
          "plot_bgcolor": "#E5ECF6",
          "polar": {
           "angularaxis": {
            "gridcolor": "white",
            "linecolor": "white",
            "ticks": ""
           },
           "bgcolor": "#E5ECF6",
           "radialaxis": {
            "gridcolor": "white",
            "linecolor": "white",
            "ticks": ""
           }
          },
          "scene": {
           "xaxis": {
            "backgroundcolor": "#E5ECF6",
            "gridcolor": "white",
            "gridwidth": 2,
            "linecolor": "white",
            "showbackground": true,
            "ticks": "",
            "zerolinecolor": "white"
           },
           "yaxis": {
            "backgroundcolor": "#E5ECF6",
            "gridcolor": "white",
            "gridwidth": 2,
            "linecolor": "white",
            "showbackground": true,
            "ticks": "",
            "zerolinecolor": "white"
           },
           "zaxis": {
            "backgroundcolor": "#E5ECF6",
            "gridcolor": "white",
            "gridwidth": 2,
            "linecolor": "white",
            "showbackground": true,
            "ticks": "",
            "zerolinecolor": "white"
           }
          },
          "shapedefaults": {
           "line": {
            "color": "#2a3f5f"
           }
          },
          "ternary": {
           "aaxis": {
            "gridcolor": "white",
            "linecolor": "white",
            "ticks": ""
           },
           "baxis": {
            "gridcolor": "white",
            "linecolor": "white",
            "ticks": ""
           },
           "bgcolor": "#E5ECF6",
           "caxis": {
            "gridcolor": "white",
            "linecolor": "white",
            "ticks": ""
           }
          },
          "title": {
           "x": 0.05
          },
          "xaxis": {
           "automargin": true,
           "gridcolor": "white",
           "linecolor": "white",
           "ticks": "",
           "title": {
            "standoff": 15
           },
           "zerolinecolor": "white",
           "zerolinewidth": 2
          },
          "yaxis": {
           "automargin": true,
           "gridcolor": "white",
           "linecolor": "white",
           "ticks": "",
           "title": {
            "standoff": 15
           },
           "zerolinecolor": "white",
           "zerolinewidth": 2
          }
         }
        }
       }
      }
     },
     "metadata": {},
     "output_type": "display_data"
    }
   ],
   "source": [
    "for i in range(3):\n",
    "    fig[call[i]].show()"
   ]
  }
 ],
 "metadata": {
  "kernelspec": {
   "display_name": "Python 3.8.13 ('DL-Torch')",
   "language": "python",
   "name": "python3"
  },
  "language_info": {
   "codemirror_mode": {
    "name": "ipython",
    "version": 3
   },
   "file_extension": ".py",
   "mimetype": "text/x-python",
   "name": "python",
   "nbconvert_exporter": "python",
   "pygments_lexer": "ipython3",
   "version": "3.8.13"
  },
  "orig_nbformat": 4,
  "vscode": {
   "interpreter": {
    "hash": "3a74ef3406efe94cf672166f399b401c775b8bbbc7f533a8273159d2b96f559a"
   }
  }
 },
 "nbformat": 4,
 "nbformat_minor": 2
}
