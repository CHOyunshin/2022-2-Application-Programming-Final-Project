{
 "cells": [
  {
   "cell_type": "markdown",
   "metadata": {},
   "source": [
    "# Human Pose Estimation with 2D static input by GHUM 3D "
   ]
  },
  {
   "cell_type": "markdown",
   "metadata": {},
   "source": [
    "## What is GHUM 3D\n",
    "\n",
    "11월 10일 간단하게 media pipe 를 이용한 pose estiamtion을 추가로 정리해 보았다. "
   ]
  },
  {
   "cell_type": "code",
   "execution_count": 1,
   "metadata": {},
   "outputs": [],
   "source": [
    "import cv2\n",
    "import math\n",
    "import numpy as np\n",
    "import os \n",
    "image_list = os.listdir(\"../photo/\")\n",
    "import matplotlib.pyplot as plt "
   ]
  },
  {
   "cell_type": "markdown",
   "metadata": {},
   "source": [
    "이부분의 error 때문에 수동으로 리스트 만들어줌\n",
    "<https://velog.io/@yjlee4093/OpenCV-cv2.imread-에러>"
   ]
  },
  {
   "cell_type": "code",
   "execution_count": 24,
   "metadata": {},
   "outputs": [],
   "source": [
    "dir = [\n",
    "# \"/Users/yscho/2022-2-Application-Programming-Final-Project/Reference/01_mediapose/02_mediapose-photo/photo/photo-1519316500492-7d95d2b8c462.jpg\",\n",
    "# \"/Users/yscho/2022-2-Application-Programming-Final-Project/Reference/01_mediapose/02_mediapose-photo/photo/photo-1529891858519-f18aa4f6a3b0.jpg\",\n",
    "# \"/Users/yscho/2022-2-Application-Programming-Final-Project/Reference/01_mediapose/02_mediapose-photo/photo/IMG_6105.png\",\n",
    "\"/Users/yscho/2022-2-Application-Programming-Final-Project/Reference/01_mediapose/02_mediapose-photo/photo/The_Skating_Minister.jpg\"]"
   ]
  },
  {
   "cell_type": "code",
   "execution_count": 25,
   "metadata": {},
   "outputs": [
    {
     "name": "stdout",
     "output_type": "stream",
     "text": [
      "/Users/yscho/2022-2-Application-Programming-Final-Project/Reference/01_mediapose/02_mediapose-photo/photo/The_Skating_Minister.jpg\n"
     ]
    }
   ],
   "source": [
    "DESIRED_HEIGHT = 480\n",
    "DESIRED_WIDTH = 480\n",
    "def resize_and_show(image):\n",
    "  h, w = image.shape[:2]\n",
    "  if h < w:\n",
    "    img = cv2.resize(image, (DESIRED_WIDTH, math.floor(h/(w/DESIRED_WIDTH))))\n",
    "  else:\n",
    "    img = cv2.resize(image, (math.floor(w/(h/DESIRED_HEIGHT)), DESIRED_HEIGHT))\n",
    "  \n",
    "# Read images with OpenCV.\n",
    "images = {name: cv2.imread(name) for name in dir}\n",
    "# Preview the images.\n",
    "for name, image in images.items():\n",
    "  print(name)   \n",
    "  resize_and_show(image)"
   ]
  },
  {
   "cell_type": "code",
   "execution_count": 26,
   "metadata": {},
   "outputs": [
    {
     "name": "stdout",
     "output_type": "stream",
     "text": [
      "Help on class Pose in module mediapipe.python.solutions.pose:\n",
      "\n",
      "class Pose(mediapipe.python.solution_base.SolutionBase)\n",
      " |  Pose(static_image_mode=False, model_complexity=1, smooth_landmarks=True, enable_segmentation=False, smooth_segmentation=True, min_detection_confidence=0.5, min_tracking_confidence=0.5)\n",
      " |  \n",
      " |  MediaPipe Pose.\n",
      " |  \n",
      " |  MediaPipe Pose processes an RGB image and returns pose landmarks on the most\n",
      " |  prominent person detected.\n",
      " |  \n",
      " |  Please refer to https://solutions.mediapipe.dev/pose#python-solution-api for\n",
      " |  usage examples.\n",
      " |  \n",
      " |  Method resolution order:\n",
      " |      Pose\n",
      " |      mediapipe.python.solution_base.SolutionBase\n",
      " |      builtins.object\n",
      " |  \n",
      " |  Methods defined here:\n",
      " |  \n",
      " |  __init__(self, static_image_mode=False, model_complexity=1, smooth_landmarks=True, enable_segmentation=False, smooth_segmentation=True, min_detection_confidence=0.5, min_tracking_confidence=0.5)\n",
      " |      Initializes a MediaPipe Pose object.\n",
      " |      \n",
      " |      Args:\n",
      " |        static_image_mode: Whether to treat the input images as a batch of static\n",
      " |          and possibly unrelated images, or a video stream. See details in\n",
      " |          https://solutions.mediapipe.dev/pose#static_image_mode.\n",
      " |        model_complexity: Complexity of the pose landmark model: 0, 1 or 2. See\n",
      " |          details in https://solutions.mediapipe.dev/pose#model_complexity.\n",
      " |        smooth_landmarks: Whether to filter landmarks across different input\n",
      " |          images to reduce jitter. See details in\n",
      " |          https://solutions.mediapipe.dev/pose#smooth_landmarks.\n",
      " |        enable_segmentation: Whether to predict segmentation mask. See details in\n",
      " |          https://solutions.mediapipe.dev/pose#enable_segmentation.\n",
      " |        smooth_segmentation: Whether to filter segmentation across different input\n",
      " |          images to reduce jitter. See details in\n",
      " |          https://solutions.mediapipe.dev/pose#smooth_segmentation.\n",
      " |        min_detection_confidence: Minimum confidence value ([0.0, 1.0]) for person\n",
      " |          detection to be considered successful. See details in\n",
      " |          https://solutions.mediapipe.dev/pose#min_detection_confidence.\n",
      " |        min_tracking_confidence: Minimum confidence value ([0.0, 1.0]) for the\n",
      " |          pose landmarks to be considered tracked successfully. See details in\n",
      " |          https://solutions.mediapipe.dev/pose#min_tracking_confidence.\n",
      " |  \n",
      " |  process(self, image: numpy.ndarray) -> <class 'NamedTuple'>\n",
      " |      Processes an RGB image and returns the pose landmarks on the most prominent person detected.\n",
      " |      \n",
      " |      Args:\n",
      " |        image: An RGB image represented as a numpy ndarray.\n",
      " |      \n",
      " |      Raises:\n",
      " |        RuntimeError: If the underlying graph throws any error.\n",
      " |        ValueError: If the input image is not three channel RGB.\n",
      " |      \n",
      " |      Returns:\n",
      " |        A NamedTuple with fields describing the landmarks on the most prominate\n",
      " |        person detected:\n",
      " |          1) \"pose_landmarks\" field that contains the pose landmarks.\n",
      " |          2) \"pose_world_landmarks\" field that contains the pose landmarks in\n",
      " |          real-world 3D coordinates that are in meters with the origin at the\n",
      " |          center between hips.\n",
      " |          3) \"segmentation_mask\" field that contains the segmentation mask if\n",
      " |             \"enable_segmentation\" is set to true.\n",
      " |  \n",
      " |  ----------------------------------------------------------------------\n",
      " |  Methods inherited from mediapipe.python.solution_base.SolutionBase:\n",
      " |  \n",
      " |  __enter__(self)\n",
      " |      A \"with\" statement support.\n",
      " |  \n",
      " |  __exit__(self, exc_type, exc_val, exc_tb)\n",
      " |      Closes all the input sources and the graph.\n",
      " |  \n",
      " |  close(self) -> None\n",
      " |      Closes all the input sources and the graph.\n",
      " |  \n",
      " |  create_graph_options(self, options_message: google.protobuf.message.Message, values: Mapping[str, Any]) -> google.protobuf.message.Message\n",
      " |      Sets protobuf field values.\n",
      " |      \n",
      " |      Args:\n",
      " |        options_message: the options protobuf message.\n",
      " |        values: field value pairs, where each field may be a \".\" separated path.\n",
      " |      \n",
      " |      Returns:\n",
      " |        the options protobuf message.\n",
      " |  \n",
      " |  reset(self) -> None\n",
      " |      Resets the graph for another run.\n",
      " |  \n",
      " |  ----------------------------------------------------------------------\n",
      " |  Data descriptors inherited from mediapipe.python.solution_base.SolutionBase:\n",
      " |  \n",
      " |  __dict__\n",
      " |      dictionary for instance variables (if defined)\n",
      " |  \n",
      " |  __weakref__\n",
      " |      list of weak references to the object (if defined)\n",
      "\n"
     ]
    }
   ],
   "source": [
    "import mediapipe as mp\n",
    "mp_pose = mp.solutions.pose\n",
    "mp_drawing = mp.solutions.drawing_utils \n",
    "mp_drawing_styles = mp.solutions.drawing_styles\n",
    "\n",
    "help(mp_pose.Pose)"
   ]
  },
  {
   "cell_type": "code",
   "execution_count": 27,
   "metadata": {},
   "outputs": [
    {
     "name": "stdout",
     "output_type": "stream",
     "text": [
      "Nose coordinates: (1258.3583979606628, 594.4375)\n",
      "Pose landmarks of /Users/yscho/2022-2-Application-Programming-Final-Project/Reference/01_mediapose/02_mediapose-photo/photo/The_Skating_Minister.jpg:\n"
     ]
    }
   ],
   "source": [
    "# Run MediaPipe Pose and draw pose landmarks.\n",
    "with mp_pose.Pose(\n",
    "    static_image_mode=True, min_detection_confidence=0.5, model_complexity=2) as pose:\n",
    "  for name, image in images.items():\n",
    "    # Convert the BGR image to RGB and process it with MediaPipe Pose.\n",
    "    results = pose.process(cv2.cvtColor(image, cv2.COLOR_BGR2RGB))\n",
    "    \n",
    "    # Print nose landmark.\n",
    "    image_hight, image_width, _ = image.shape\n",
    "    if not results.pose_landmarks:\n",
    "      continue\n",
    "    print(\n",
    "      f'Nose coordinates: ('\n",
    "      f'{results.pose_landmarks.landmark[mp_pose.PoseLandmark.NOSE].x * image_width}, '\n",
    "      f'{results.pose_landmarks.landmark[mp_pose.PoseLandmark.NOSE].y * image_hight})'\n",
    "    )\n",
    "  \n",
    "    # Draw pose landmarks.\n",
    "    print(f'Pose landmarks of {name}:')\n",
    "    annotated_image = image.copy()\n",
    "    mp_drawing.draw_landmarks(\n",
    "        annotated_image,\n",
    "        results.pose_landmarks,\n",
    "        mp_pose.POSE_CONNECTIONS,\n",
    "        landmark_drawing_spec=mp_drawing_styles.get_default_pose_landmarks_style())\n",
    "    resize_and_show(annotated_image)"
   ]
  },
  {
   "cell_type": "code",
   "execution_count": 28,
   "metadata": {},
   "outputs": [
    {
     "name": "stdout",
     "output_type": "stream",
     "text": [
      "Nose world landmark:\n",
      "x: 0.40274935960769653\n",
      "y: -0.5085957050323486\n",
      "z: -0.16890938580036163\n",
      "visibility: 0.9975753426551819\n",
      "\n"
     ]
    },
    {
     "data": {
      "image/png": "[encoded data removed]",
      "text/plain": [
       "<Figure size 1000x1000 with 1 Axes>"
      ]
     },
     "metadata": {},
     "output_type": "display_data"
    }
   ],
   "source": [
    "# Run MediaPipe Pose and plot 3d pose world landmarks.\n",
    "with mp_pose.Pose(\n",
    "    static_image_mode=True, min_detection_confidence=0.5, model_complexity=2) as pose:\n",
    "  for name, image in images.items():\n",
    "    results = pose.process(cv2.cvtColor(image, cv2.COLOR_BGR2RGB))\n",
    "\n",
    "    # Print the real-world 3D coordinates of nose in meters with the origin at\n",
    "    # the center between hips.\n",
    "    print('Nose world landmark:'),\n",
    "    print(results.pose_world_landmarks.landmark[mp_pose.PoseLandmark.NOSE])\n",
    "    \n",
    "    # Plot pose world landmarks.\n",
    "    mp_drawing.plot_landmarks(\n",
    "        results.pose_world_landmarks, mp_pose.POSE_CONNECTIONS)"
   ]
  },
  {
   "cell_type": "code",
   "execution_count": 29,
   "metadata": {},
   "outputs": [
    {
     "name": "stdout",
     "output_type": "stream",
     "text": [
      "Pose segmentation of /Users/yscho/2022-2-Application-Programming-Final-Project/Reference/01_mediapose/02_mediapose-photo/photo/The_Skating_Minister.jpg:\n"
     ]
    },
    {
     "data": {
      "text/plain": [
       "<Figure size 640x480 with 0 Axes>"
      ]
     },
     "metadata": {},
     "output_type": "display_data"
    }
   ],
   "source": [
    "# Run MediaPipe Pose with `enable_segmentation=True` to get pose segmentation.\n",
    "with mp_pose.Pose(\n",
    "    static_image_mode=True, min_detection_confidence=0.5, \n",
    "    model_complexity=2, enable_segmentation=True) as pose:\n",
    "  for name, image in images.items():\n",
    "    results = pose.process(cv2.cvtColor(image, cv2.COLOR_BGR2RGB))\n",
    "\n",
    "    # Draw pose segmentation.\n",
    "    print(f'Pose segmentation of {name}:')\n",
    "    annotated_image = image.copy()\n",
    "    red_img = np.zeros_like(annotated_image, dtype=np.uint8)\n",
    "    red_img[:, :] = (255,255,255)\n",
    "    segm_2class = 0.2 + 0.8 * results.segmentation_mask\n",
    "    segm_2class = np.repeat(segm_2class[..., np.newaxis], 3, axis=2)\n",
    "    annotated_image = annotated_image * segm_2class + red_img * (1 - segm_2class)\n",
    "    resize_and_show(annotated_image)\n",
    "    plt.figimage(annotated_image)\n",
    "    plt.show()"
   ]
  },
  {
   "cell_type": "code",
   "execution_count": 30,
   "metadata": {},
   "outputs": [],
   "source": [
    "point, line = {}, {}\n",
    "\n",
    "with mp_pose.Pose(\n",
    "    static_image_mode=True, min_detection_confidence=0.5, model_complexity=2) as pose:\n",
    "    for name, image in images.items():\n",
    "        results = pose.process(cv2.cvtColor(image, cv2.COLOR_BGR2RGB))\n",
    "        point[name] = results.pose_world_landmarks\n",
    "        line[name] = mp_pose.POSE_CONNECTIONS"
   ]
  },
  {
   "cell_type": "code",
   "execution_count": 36,
   "metadata": {},
   "outputs": [
    {
     "data": {
      "text/plain": [
       "{'/Users/yscho/2022-2-Application-Programming-Final-Project/Reference/01_mediapose/02_mediapose-photo/photo/The_Skating_Minister.jpg': landmark {\n",
       "   x: 0.40274935960769653\n",
       "   y: -0.5085957050323486\n",
       "   z: -0.16890938580036163\n",
       "   visibility: 0.9975753426551819\n",
       " }\n",
       " landmark {\n",
       "   x: 0.38913601636886597\n",
       "   y: -0.5340134501457214\n",
       "   z: -0.15822279453277588\n",
       "   visibility: 0.9963296055793762\n",
       " }\n",
       " landmark {\n",
       "   x: 0.39081692695617676\n",
       "   y: -0.5337503552436829\n",
       "   z: -0.14931225776672363\n",
       "   visibility: 0.9961993098258972\n",
       " }\n",
       " landmark {\n",
       "   x: 0.3904477655887604\n",
       "   y: -0.5344939827919006\n",
       "   z: -0.1527167558670044\n",
       "   visibility: 0.9976420402526855\n",
       " }\n",
       " landmark {\n",
       "   x: 0.3931805491447449\n",
       "   y: -0.5340878963470459\n",
       "   z: -0.20345211029052734\n",
       "   visibility: 0.9969047904014587\n",
       " }\n",
       " landmark {\n",
       "   x: 0.39378273487091064\n",
       "   y: -0.530979335308075\n",
       "   z: -0.21683451533317566\n",
       "   visibility: 0.9972291588783264\n",
       " }\n",
       " landmark {\n",
       "   x: 0.39164695143699646\n",
       "   y: -0.5176483988761902\n",
       "   z: -0.19641005992889404\n",
       "   visibility: 0.9977073669433594\n",
       " }\n",
       " landmark {\n",
       "   x: 0.3239215910434723\n",
       "   y: -0.5428504347801208\n",
       "   z: -0.09061646461486816\n",
       "   visibility: 0.9982705116271973\n",
       " }\n",
       " landmark {\n",
       "   x: 0.26080766320228577\n",
       "   y: -0.5033562779426575\n",
       "   z: -0.22616046667099\n",
       "   visibility: 0.9949878454208374\n",
       " }\n",
       " landmark {\n",
       "   x: 0.3964056074619293\n",
       "   y: -0.49727940559387207\n",
       "   z: -0.12854717671871185\n",
       "   visibility: 0.9960557222366333\n",
       " }\n",
       " landmark {\n",
       "   x: 0.3672078251838684\n",
       "   y: -0.4654172658920288\n",
       "   z: -0.19651800394058228\n",
       "   visibility: 0.9928030371665955\n",
       " }\n",
       " landmark {\n",
       "   x: 0.29003044962882996\n",
       "   y: -0.38266459107398987\n",
       "   z: 0.04437607526779175\n",
       "   visibility: 0.9998303651809692\n",
       " }\n",
       " landmark {\n",
       "   x: 0.24109864234924316\n",
       "   y: -0.4337793290615082\n",
       "   z: -0.14775574207305908\n",
       "   visibility: 0.9990731477737427\n",
       " }\n",
       " landmark {\n",
       "   x: 0.24223189055919647\n",
       "   y: -0.16896721720695496\n",
       "   z: 0.04372081533074379\n",
       "   visibility: 0.004957209341228008\n",
       " }\n",
       " landmark {\n",
       "   x: 0.2853160500526428\n",
       "   y: -0.17806345224380493\n",
       "   z: -0.09450870752334595\n",
       "   visibility: 0.5551537275314331\n",
       " }\n",
       " landmark {\n",
       "   x: 0.12325745075941086\n",
       "   y: -0.02007691189646721\n",
       "   z: 0.05231320858001709\n",
       "   visibility: 0.0008133696974255145\n",
       " }\n",
       " landmark {\n",
       "   x: 0.2913393974304199\n",
       "   y: -0.22547373175621033\n",
       "   z: 0.1030724048614502\n",
       "   visibility: 0.058026302605867386\n",
       " }\n",
       " landmark {\n",
       "   x: 0.10071905702352524\n",
       "   y: -0.0022951029241085052\n",
       "   z: 0.06871902942657471\n",
       "   visibility: 0.0016821312019601464\n",
       " }\n",
       " landmark {\n",
       "   x: 0.3270741403102875\n",
       "   y: -0.23540541529655457\n",
       "   z: 0.087400883436203\n",
       "   visibility: 0.056482382118701935\n",
       " }\n",
       " landmark {\n",
       "   x: 0.08043378591537476\n",
       "   y: -0.004128754138946533\n",
       "   z: 0.0538562536239624\n",
       "   visibility: 0.0017901540268212557\n",
       " }\n",
       " landmark {\n",
       "   x: 0.3386325538158417\n",
       "   y: -0.2895216941833496\n",
       "   z: 0.08858859539031982\n",
       "   visibility: 0.051462266594171524\n",
       " }\n",
       " landmark {\n",
       "   x: 0.1057903915643692\n",
       "   y: 0.0016371794044971466\n",
       "   z: 0.04268265143036842\n",
       "   visibility: 0.001827017404139042\n",
       " }\n",
       " landmark {\n",
       "   x: 0.295387864112854\n",
       "   y: -0.2546476423740387\n",
       "   z: 0.10123920440673828\n",
       "   visibility: 0.034208040684461594\n",
       " }\n",
       " landmark {\n",
       "   x: 0.048303090035915375\n",
       "   y: 0.030358044430613518\n",
       "   z: 0.09185907244682312\n",
       "   visibility: 0.9999525547027588\n",
       " }\n",
       " landmark {\n",
       "   x: -0.04126337543129921\n",
       "   y: -0.033786509186029434\n",
       "   z: -0.09249556064605713\n",
       "   visibility: 0.9999258518218994\n",
       " }\n",
       " landmark {\n",
       "   x: -0.04062916338443756\n",
       "   y: 0.41730114817619324\n",
       "   z: 0.09995532035827637\n",
       "   visibility: 0.2884117066860199\n",
       " }\n",
       " landmark {\n",
       "   x: -0.32424160838127136\n",
       "   y: 0.14845547080039978\n",
       "   z: -0.028966069221496582\n",
       "   visibility: 0.9281628727912903\n",
       " }\n",
       " landmark {\n",
       "   x: -0.1255309283733368\n",
       "   y: 0.7613908052444458\n",
       "   z: 0.1808714121580124\n",
       "   visibility: 0.7126950621604919\n",
       " }\n",
       " landmark {\n",
       "   x: -0.7131819725036621\n",
       "   y: 0.2775197923183441\n",
       "   z: 0.13788795471191406\n",
       "   visibility: 0.918647050857544\n",
       " }\n",
       " landmark {\n",
       "   x: -0.15224850177764893\n",
       "   y: 0.7887144088745117\n",
       "   z: 0.19508028030395508\n",
       "   visibility: 0.5261078476905823\n",
       " }\n",
       " landmark {\n",
       "   x: -0.7494069337844849\n",
       "   y: 0.2851265072822571\n",
       "   z: 0.1174544095993042\n",
       "   visibility: 0.5142314434051514\n",
       " }\n",
       " landmark {\n",
       "   x: -0.0724954605102539\n",
       "   y: 0.8269569873809814\n",
       "   z: 0.17324721813201904\n",
       "   visibility: 0.7746121883392334\n",
       " }\n",
       " landmark {\n",
       "   x: -0.7157340049743652\n",
       "   y: 0.3193793296813965\n",
       "   z: 0.08105580508708954\n",
       "   visibility: 0.8613605499267578\n",
       " }}"
      ]
     },
     "execution_count": 36,
     "metadata": {},
     "output_type": "execute_result"
    }
   ],
   "source": [
    "point"
   ]
  },
  {
   "cell_type": "code",
   "execution_count": 37,
   "metadata": {},
   "outputs": [
    {
     "data": {
      "text/plain": [
       "{'/Users/yscho/2022-2-Application-Programming-Final-Project/Reference/01_mediapose/02_mediapose-photo/photo/The_Skating_Minister.jpg': frozenset({(0,\n",
       "             1),\n",
       "            (0, 4),\n",
       "            (1, 2),\n",
       "            (2, 3),\n",
       "            (3, 7),\n",
       "            (4, 5),\n",
       "            (5, 6),\n",
       "            (6, 8),\n",
       "            (9, 10),\n",
       "            (11, 12),\n",
       "            (11, 13),\n",
       "            (11, 23),\n",
       "            (12, 14),\n",
       "            (12, 24),\n",
       "            (13, 15),\n",
       "            (14, 16),\n",
       "            (15, 17),\n",
       "            (15, 19),\n",
       "            (15, 21),\n",
       "            (16, 18),\n",
       "            (16, 20),\n",
       "            (16, 22),\n",
       "            (17, 19),\n",
       "            (18, 20),\n",
       "            (23, 24),\n",
       "            (23, 25),\n",
       "            (24, 26),\n",
       "            (25, 27),\n",
       "            (26, 28),\n",
       "            (27, 29),\n",
       "            (27, 31),\n",
       "            (28, 30),\n",
       "            (28, 32),\n",
       "            (29, 31),\n",
       "            (30, 32)})}"
      ]
     },
     "execution_count": 37,
     "metadata": {},
     "output_type": "execute_result"
    }
   ],
   "source": [
    "line"
   ]
  },
  {
   "cell_type": "code",
   "execution_count": 31,
   "metadata": {},
   "outputs": [],
   "source": [
    "call = list(point.keys())"
   ]
  },
  {
   "cell_type": "code",
   "execution_count": 32,
   "metadata": {},
   "outputs": [],
   "source": [
    "import pandas as pd\n",
    "import plotly.graph_objects as go\n",
    "import plotly.express as px\n",
    "\n",
    "_PRESENCE_THRESHOLD = 0.5\n",
    "_VISIBILITY_THRESHOLD = 0.5\n",
    "\n",
    "\n",
    "def plot_landmarks(\n",
    "    landmark_list,\n",
    "    connections=None,\n",
    "):\n",
    "    if not landmark_list:\n",
    "        return\n",
    "    plotted_landmarks = {}\n",
    "    for idx, landmark in enumerate(landmark_list.landmark):\n",
    "        if (\n",
    "            landmark.HasField(\"visibility\")\n",
    "            and landmark.visibility < _VISIBILITY_THRESHOLD\n",
    "        ) or (\n",
    "            landmark.HasField(\"presence\") and landmark.presence < _PRESENCE_THRESHOLD\n",
    "        ):\n",
    "            continue\n",
    "        plotted_landmarks[idx] = (-landmark.z, landmark.x, -landmark.y)\n",
    "    if connections:\n",
    "        out_cn = []\n",
    "        num_landmarks = len(landmark_list.landmark)\n",
    "        # Draws the connections if the start and end landmarks are both visible.\n",
    "        for connection in connections:\n",
    "            start_idx = connection[0]\n",
    "            end_idx = connection[1]\n",
    "            if not (0 <= start_idx < num_landmarks and 0 <= end_idx < num_landmarks):\n",
    "                raise ValueError(\n",
    "                    f\"Landmark index is out of range. Invalid connection \"\n",
    "                    f\"from landmark #{start_idx} to landmark #{end_idx}.\"\n",
    "                )\n",
    "            if start_idx in plotted_landmarks and end_idx in plotted_landmarks:\n",
    "                landmark_pair = [\n",
    "                    plotted_landmarks[start_idx],\n",
    "                    plotted_landmarks[end_idx],\n",
    "                ]\n",
    "                out_cn.append(\n",
    "                    dict(\n",
    "                        xs=[landmark_pair[0][0], landmark_pair[1][0]],\n",
    "                        ys=[landmark_pair[0][1], landmark_pair[1][1]],\n",
    "                        zs=[landmark_pair[0][2], landmark_pair[1][2]],\n",
    "                    )\n",
    "                )\n",
    "        cn2 = {\"xs\": [], \"ys\": [], \"zs\": []}\n",
    "        for pair in out_cn:\n",
    "            for k in pair.keys():\n",
    "                cn2[k].append(pair[k][0])\n",
    "                cn2[k].append(pair[k][1])\n",
    "                cn2[k].append(None)\n",
    "\n",
    "    df = pd.DataFrame(plotted_landmarks).T.rename(columns={0: \"z\", 1: \"x\", 2: \"y\"})\n",
    "    df[\"lm\"] = df.index.map(lambda s: mp_pose.PoseLandmark(s).name).values\n",
    "    fig = (\n",
    "        px.scatter_3d(df, x=\"z\", y=\"x\", z=\"y\", hover_name=\"lm\")\n",
    "        .update_traces(marker={\"color\": \"red\"})\n",
    "        .update_layout(\n",
    "            margin={\"l\": 0, \"r\": 0, \"t\": 0, \"b\": 0},\n",
    "            scene={\"camera\": {\"eye\": {\"x\": 2.1, \"y\": 0, \"z\": 0}}},\n",
    "        )\n",
    "    )\n",
    "    fig.add_traces(\n",
    "        [\n",
    "            go.Scatter3d(\n",
    "                x=cn2[\"xs\"],\n",
    "                y=cn2[\"ys\"],\n",
    "                z=cn2[\"zs\"],\n",
    "                mode=\"lines\",\n",
    "                line={\"color\": \"black\", \"width\": 5},\n",
    "                name=\"connections\",\n",
    "            )\n",
    "        ]\n",
    "    )\n",
    "\n",
    "    return fig"
   ]
  },
  {
   "cell_type": "code",
   "execution_count": 33,
   "metadata": {},
   "outputs": [],
   "source": [
    "fig = {}\n",
    "for name in call:\n",
    "    fig[name] = plot_landmarks(point[name],line[name])"
   ]
  },
  {
   "cell_type": "code",
   "execution_count": null,
   "metadata": {},
   "outputs": [],
   "source": [
    "# for i in range(4):\n",
    "#     fig[call[i]].show()"
   ]
  },
  {
   "cell_type": "code",
   "execution_count": 35,
   "metadata": {},
   "outputs": [
    {
     "data": {
      "application/vnd.plotly.v1+json": {
       "config": {
        "plotlyServerURL": "https://plotly.com"
       },
       "data": [
        {
         "hovertemplate": "<b>%{hovertext}</b><br><br>z=%{x}<br>x=%{y}<br>y=%{z}<extra></extra>",
         "hovertext": [
          "NOSE",
          "LEFT_EYE_INNER",
          "LEFT_EYE",
          "LEFT_EYE_OUTER",
          "RIGHT_EYE_INNER",
          "RIGHT_EYE",
          "RIGHT_EYE_OUTER",
          "LEFT_EAR",
          "RIGHT_EAR",
          "MOUTH_LEFT",
          "MOUTH_RIGHT",
          "LEFT_SHOULDER",
          "RIGHT_SHOULDER",
          "RIGHT_ELBOW",
          "LEFT_HIP",
          "RIGHT_HIP",
          "RIGHT_KNEE",
          "LEFT_ANKLE",
          "RIGHT_ANKLE",
          "LEFT_HEEL",
          "RIGHT_HEEL",
          "LEFT_FOOT_INDEX",
          "RIGHT_FOOT_INDEX"
         ],
         "legendgroup": "",
         "marker": {
          "color": "red",
          "symbol": "circle"
         },
         "mode": "markers",
         "name": "",
         "scene": "scene",
         "showlegend": false,
         "type": "scatter3d",
         "x": [
          0.16890938580036163,
          0.15822279453277588,
          0.14931225776672363,
          0.1527167558670044,
          0.20345211029052734,
          0.21683451533317566,
          0.19641005992889404,
          0.09061646461486816,
          0.22616046667099,
          0.12854717671871185,
          0.19651800394058228,
          -0.04437607526779175,
          0.14775574207305908,
          0.09450870752334595,
          -0.09185907244682312,
          0.09249556064605713,
          0.028966069221496582,
          -0.1808714121580124,
          -0.13788795471191406,
          -0.19508028030395508,
          -0.1174544095993042,
          -0.17324721813201904,
          -0.08105580508708954
         ],
         "y": [
          0.40274935960769653,
          0.38913601636886597,
          0.39081692695617676,
          0.3904477655887604,
          0.3931805491447449,
          0.39378273487091064,
          0.39164695143699646,
          0.3239215910434723,
          0.26080766320228577,
          0.3964056074619293,
          0.3672078251838684,
          0.29003044962882996,
          0.24109864234924316,
          0.2853160500526428,
          0.048303090035915375,
          -0.04126337543129921,
          -0.32424160838127136,
          -0.1255309283733368,
          -0.7131819725036621,
          -0.15224850177764893,
          -0.7494069337844849,
          -0.0724954605102539,
          -0.7157340049743652
         ],
         "z": [
          0.5085957050323486,
          0.5340134501457214,
          0.5337503552436829,
          0.5344939827919006,
          0.5340878963470459,
          0.530979335308075,
          0.5176483988761902,
          0.5428504347801208,
          0.5033562779426575,
          0.49727940559387207,
          0.4654172658920288,
          0.38266459107398987,
          0.4337793290615082,
          0.17806345224380493,
          -0.030358044430613518,
          0.033786509186029434,
          -0.14845547080039978,
          -0.7613908052444458,
          -0.2775197923183441,
          -0.7887144088745117,
          -0.2851265072822571,
          -0.8269569873809814,
          -0.3193793296813965
         ]
        },
        {
         "line": {
          "color": "black",
          "width": 5
         },
         "mode": "lines",
         "name": "connections",
         "type": "scatter3d",
         "x": [
          0.1527167558670044,
          0.09061646461486816,
          null,
          -0.13788795471191406,
          -0.1174544095993042,
          null,
          -0.04437607526779175,
          -0.09185907244682312,
          null,
          -0.1808714121580124,
          -0.17324721813201904,
          null,
          0.19641005992889404,
          0.22616046667099,
          null,
          0.09249556064605713,
          0.028966069221496582,
          null,
          0.20345211029052734,
          0.21683451533317566,
          null,
          0.21683451533317566,
          0.19641005992889404,
          null,
          -0.19508028030395508,
          -0.17324721813201904,
          null,
          0.14775574207305908,
          0.09249556064605713,
          null,
          -0.09185907244682312,
          0.09249556064605713,
          null,
          0.16890938580036163,
          0.15822279453277588,
          null,
          0.12854717671871185,
          0.19651800394058228,
          null,
          0.15822279453277588,
          0.14931225776672363,
          null,
          0.16890938580036163,
          0.20345211029052734,
          null,
          -0.1174544095993042,
          -0.08105580508708954,
          null,
          -0.13788795471191406,
          -0.08105580508708954,
          null,
          0.028966069221496582,
          -0.13788795471191406,
          null,
          0.14775574207305908,
          0.09450870752334595,
          null,
          0.14931225776672363,
          0.1527167558670044,
          null,
          -0.04437607526779175,
          0.14775574207305908,
          null,
          -0.1808714121580124,
          -0.19508028030395508,
          null
         ],
         "y": [
          0.3904477655887604,
          0.3239215910434723,
          null,
          -0.7131819725036621,
          -0.7494069337844849,
          null,
          0.29003044962882996,
          0.048303090035915375,
          null,
          -0.1255309283733368,
          -0.0724954605102539,
          null,
          0.39164695143699646,
          0.26080766320228577,
          null,
          -0.04126337543129921,
          -0.32424160838127136,
          null,
          0.3931805491447449,
          0.39378273487091064,
          null,
          0.39378273487091064,
          0.39164695143699646,
          null,
          -0.15224850177764893,
          -0.0724954605102539,
          null,
          0.24109864234924316,
          -0.04126337543129921,
          null,
          0.048303090035915375,
          -0.04126337543129921,
          null,
          0.40274935960769653,
          0.38913601636886597,
          null,
          0.3964056074619293,
          0.3672078251838684,
          null,
          0.38913601636886597,
          0.39081692695617676,
          null,
          0.40274935960769653,
          0.3931805491447449,
          null,
          -0.7494069337844849,
          -0.7157340049743652,
          null,
          -0.7131819725036621,
          -0.7157340049743652,
          null,
          -0.32424160838127136,
          -0.7131819725036621,
          null,
          0.24109864234924316,
          0.2853160500526428,
          null,
          0.39081692695617676,
          0.3904477655887604,
          null,
          0.29003044962882996,
          0.24109864234924316,
          null,
          -0.1255309283733368,
          -0.15224850177764893,
          null
         ],
         "z": [
          0.5344939827919006,
          0.5428504347801208,
          null,
          -0.2775197923183441,
          -0.2851265072822571,
          null,
          0.38266459107398987,
          -0.030358044430613518,
          null,
          -0.7613908052444458,
          -0.8269569873809814,
          null,
          0.5176483988761902,
          0.5033562779426575,
          null,
          0.033786509186029434,
          -0.14845547080039978,
          null,
          0.5340878963470459,
          0.530979335308075,
          null,
          0.530979335308075,
          0.5176483988761902,
          null,
          -0.7887144088745117,
          -0.8269569873809814,
          null,
          0.4337793290615082,
          0.033786509186029434,
          null,
          -0.030358044430613518,
          0.033786509186029434,
          null,
          0.5085957050323486,
          0.5340134501457214,
          null,
          0.49727940559387207,
          0.4654172658920288,
          null,
          0.5340134501457214,
          0.5337503552436829,
          null,
          0.5085957050323486,
          0.5340878963470459,
          null,
          -0.2851265072822571,
          -0.3193793296813965,
          null,
          -0.2775197923183441,
          -0.3193793296813965,
          null,
          -0.14845547080039978,
          -0.2775197923183441,
          null,
          0.4337793290615082,
          0.17806345224380493,
          null,
          0.5337503552436829,
          0.5344939827919006,
          null,
          0.38266459107398987,
          0.4337793290615082,
          null,
          -0.7613908052444458,
          -0.7887144088745117,
          null
         ]
        }
       ],
       "layout": {
        "legend": {
         "tracegroupgap": 0
        },
        "margin": {
         "b": 0,
         "l": 0,
         "r": 0,
         "t": 0
        },
        "scene": {
         "camera": {
          "eye": {
           "x": 2.1,
           "y": 0,
           "z": 0
          }
         },
         "domain": {
          "x": [
           0,
           1
          ],
          "y": [
           0,
           1
          ]
         },
         "xaxis": {
          "title": {
           "text": "z"
          }
         },
         "yaxis": {
          "title": {
           "text": "x"
          }
         },
         "zaxis": {
          "title": {
           "text": "y"
          }
         }
        },
        "template": {
         "data": {
          "bar": [
           {
            "error_x": {
             "color": "#2a3f5f"
            },
            "error_y": {
             "color": "#2a3f5f"
            },
            "marker": {
             "line": {
              "color": "#E5ECF6",
              "width": 0.5
             },
             "pattern": {
              "fillmode": "overlay",
              "size": 10,
              "solidity": 0.2
             }
            },
            "type": "bar"
           }
          ],
          "barpolar": [
           {
            "marker": {
             "line": {
              "color": "#E5ECF6",
              "width": 0.5
             },
             "pattern": {
              "fillmode": "overlay",
              "size": 10,
              "solidity": 0.2
             }
            },
            "type": "barpolar"
           }
          ],
          "carpet": [
           {
            "aaxis": {
             "endlinecolor": "#2a3f5f",
             "gridcolor": "white",
             "linecolor": "white",
             "minorgridcolor": "white",
             "startlinecolor": "#2a3f5f"
            },
            "baxis": {
             "endlinecolor": "#2a3f5f",
             "gridcolor": "white",
             "linecolor": "white",
             "minorgridcolor": "white",
             "startlinecolor": "#2a3f5f"
            },
            "type": "carpet"
           }
          ],
          "choropleth": [
           {
            "colorbar": {
             "outlinewidth": 0,
             "ticks": ""
            },
            "type": "choropleth"
           }
          ],
          "contour": [
           {
            "colorbar": {
             "outlinewidth": 0,
             "ticks": ""
            },
            "colorscale": [
             [
              0,
              "#0d0887"
             ],
             [
              0.1111111111111111,
              "#46039f"
             ],
             [
              0.2222222222222222,
              "#7201a8"
             ],
             [
              0.3333333333333333,
              "#9c179e"
             ],
             [
              0.4444444444444444,
              "#bd3786"
             ],
             [
              0.5555555555555556,
              "#d8576b"
             ],
             [
              0.6666666666666666,
              "#ed7953"
             ],
             [
              0.7777777777777778,
              "#fb9f3a"
             ],
             [
              0.8888888888888888,
              "#fdca26"
             ],
             [
              1,
              "#f0f921"
             ]
            ],
            "type": "contour"
           }
          ],
          "contourcarpet": [
           {
            "colorbar": {
             "outlinewidth": 0,
             "ticks": ""
            },
            "type": "contourcarpet"
           }
          ],
          "heatmap": [
           {
            "colorbar": {
             "outlinewidth": 0,
             "ticks": ""
            },
            "colorscale": [
             [
              0,
              "#0d0887"
             ],
             [
              0.1111111111111111,
              "#46039f"
             ],
             [
              0.2222222222222222,
              "#7201a8"
             ],
             [
              0.3333333333333333,
              "#9c179e"
             ],
             [
              0.4444444444444444,
              "#bd3786"
             ],
             [
              0.5555555555555556,
              "#d8576b"
             ],
             [
              0.6666666666666666,
              "#ed7953"
             ],
             [
              0.7777777777777778,
              "#fb9f3a"
             ],
             [
              0.8888888888888888,
              "#fdca26"
             ],
             [
              1,
              "#f0f921"
             ]
            ],
            "type": "heatmap"
           }
          ],
          "heatmapgl": [
           {
            "colorbar": {
             "outlinewidth": 0,
             "ticks": ""
            },
            "colorscale": [
             [
              0,
              "#0d0887"
             ],
             [
              0.1111111111111111,
              "#46039f"
             ],
             [
              0.2222222222222222,
              "#7201a8"
             ],
             [
              0.3333333333333333,
              "#9c179e"
             ],
             [
              0.4444444444444444,
              "#bd3786"
             ],
             [
              0.5555555555555556,
              "#d8576b"
             ],
             [
              0.6666666666666666,
              "#ed7953"
             ],
             [
              0.7777777777777778,
              "#fb9f3a"
             ],
             [
              0.8888888888888888,
              "#fdca26"
             ],
             [
              1,
              "#f0f921"
             ]
            ],
            "type": "heatmapgl"
           }
          ],
          "histogram": [
           {
            "marker": {
             "pattern": {
              "fillmode": "overlay",
              "size": 10,
              "solidity": 0.2
             }
            },
            "type": "histogram"
           }
          ],
          "histogram2d": [
           {
            "colorbar": {
             "outlinewidth": 0,
             "ticks": ""
            },
            "colorscale": [
             [
              0,
              "#0d0887"
             ],
             [
              0.1111111111111111,
              "#46039f"
             ],
             [
              0.2222222222222222,
              "#7201a8"
             ],
             [
              0.3333333333333333,
              "#9c179e"
             ],
             [
              0.4444444444444444,
              "#bd3786"
             ],
             [
              0.5555555555555556,
              "#d8576b"
             ],
             [
              0.6666666666666666,
              "#ed7953"
             ],
             [
              0.7777777777777778,
              "#fb9f3a"
             ],
             [
              0.8888888888888888,
              "#fdca26"
             ],
             [
              1,
              "#f0f921"
             ]
            ],
            "type": "histogram2d"
           }
          ],
          "histogram2dcontour": [
           {
            "colorbar": {
             "outlinewidth": 0,
             "ticks": ""
            },
            "colorscale": [
             [
              0,
              "#0d0887"
             ],
             [
              0.1111111111111111,
              "#46039f"
             ],
             [
              0.2222222222222222,
              "#7201a8"
             ],
             [
              0.3333333333333333,
              "#9c179e"
             ],
             [
              0.4444444444444444,
              "#bd3786"
             ],
             [
              0.5555555555555556,
              "#d8576b"
             ],
             [
              0.6666666666666666,
              "#ed7953"
             ],
             [
              0.7777777777777778,
              "#fb9f3a"
             ],
             [
              0.8888888888888888,
              "#fdca26"
             ],
             [
              1,
              "#f0f921"
             ]
            ],
            "type": "histogram2dcontour"
           }
          ],
          "mesh3d": [
           {
            "colorbar": {
             "outlinewidth": 0,
             "ticks": ""
            },
            "type": "mesh3d"
           }
          ],
          "parcoords": [
           {
            "line": {
             "colorbar": {
              "outlinewidth": 0,
              "ticks": ""
             }
            },
            "type": "parcoords"
           }
          ],
          "pie": [
           {
            "automargin": true,
            "type": "pie"
           }
          ],
          "scatter": [
           {
            "fillpattern": {
             "fillmode": "overlay",
             "size": 10,
             "solidity": 0.2
            },
            "type": "scatter"
           }
          ],
          "scatter3d": [
           {
            "line": {
             "colorbar": {
              "outlinewidth": 0,
              "ticks": ""
             }
            },
            "marker": {
             "colorbar": {
              "outlinewidth": 0,
              "ticks": ""
             }
            },
            "type": "scatter3d"
           }
          ],
          "scattercarpet": [
           {
            "marker": {
             "colorbar": {
              "outlinewidth": 0,
              "ticks": ""
             }
            },
            "type": "scattercarpet"
           }
          ],
          "scattergeo": [
           {
            "marker": {
             "colorbar": {
              "outlinewidth": 0,
              "ticks": ""
             }
            },
            "type": "scattergeo"
           }
          ],
          "scattergl": [
           {
            "marker": {
             "colorbar": {
              "outlinewidth": 0,
              "ticks": ""
             }
            },
            "type": "scattergl"
           }
          ],
          "scattermapbox": [
           {
            "marker": {
             "colorbar": {
              "outlinewidth": 0,
              "ticks": ""
             }
            },
            "type": "scattermapbox"
           }
          ],
          "scatterpolar": [
           {
            "marker": {
             "colorbar": {
              "outlinewidth": 0,
              "ticks": ""
             }
            },
            "type": "scatterpolar"
           }
          ],
          "scatterpolargl": [
           {
            "marker": {
             "colorbar": {
              "outlinewidth": 0,
              "ticks": ""
             }
            },
            "type": "scatterpolargl"
           }
          ],
          "scatterternary": [
           {
            "marker": {
             "colorbar": {
              "outlinewidth": 0,
              "ticks": ""
             }
            },
            "type": "scatterternary"
           }
          ],
          "surface": [
           {
            "colorbar": {
             "outlinewidth": 0,
             "ticks": ""
            },
            "colorscale": [
             [
              0,
              "#0d0887"
             ],
             [
              0.1111111111111111,
              "#46039f"
             ],
             [
              0.2222222222222222,
              "#7201a8"
             ],
             [
              0.3333333333333333,
              "#9c179e"
             ],
             [
              0.4444444444444444,
              "#bd3786"
             ],
             [
              0.5555555555555556,
              "#d8576b"
             ],
             [
              0.6666666666666666,
              "#ed7953"
             ],
             [
              0.7777777777777778,
              "#fb9f3a"
             ],
             [
              0.8888888888888888,
              "#fdca26"
             ],
             [
              1,
              "#f0f921"
             ]
            ],
            "type": "surface"
           }
          ],
          "table": [
           {
            "cells": {
             "fill": {
              "color": "#EBF0F8"
             },
             "line": {
              "color": "white"
             }
            },
            "header": {
             "fill": {
              "color": "#C8D4E3"
             },
             "line": {
              "color": "white"
             }
            },
            "type": "table"
           }
          ]
         },
         "layout": {
          "annotationdefaults": {
           "arrowcolor": "#2a3f5f",
           "arrowhead": 0,
           "arrowwidth": 1
          },
          "autotypenumbers": "strict",
          "coloraxis": {
           "colorbar": {
            "outlinewidth": 0,
            "ticks": ""
           }
          },
          "colorscale": {
           "diverging": [
            [
             0,
             "#8e0152"
            ],
            [
             0.1,
             "#c51b7d"
            ],
            [
             0.2,
             "#de77ae"
            ],
            [
             0.3,
             "#f1b6da"
            ],
            [
             0.4,
             "#fde0ef"
            ],
            [
             0.5,
             "#f7f7f7"
            ],
            [
             0.6,
             "#e6f5d0"
            ],
            [
             0.7,
             "#b8e186"
            ],
            [
             0.8,
             "#7fbc41"
            ],
            [
             0.9,
             "#4d9221"
            ],
            [
             1,
             "#276419"
            ]
           ],
           "sequential": [
            [
             0,
             "#0d0887"
            ],
            [
             0.1111111111111111,
             "#46039f"
            ],
            [
             0.2222222222222222,
             "#7201a8"
            ],
            [
             0.3333333333333333,
             "#9c179e"
            ],
            [
             0.4444444444444444,
             "#bd3786"
            ],
            [
             0.5555555555555556,
             "#d8576b"
            ],
            [
             0.6666666666666666,
             "#ed7953"
            ],
            [
             0.7777777777777778,
             "#fb9f3a"
            ],
            [
             0.8888888888888888,
             "#fdca26"
            ],
            [
             1,
             "#f0f921"
            ]
           ],
           "sequentialminus": [
            [
             0,
             "#0d0887"
            ],
            [
             0.1111111111111111,
             "#46039f"
            ],
            [
             0.2222222222222222,
             "#7201a8"
            ],
            [
             0.3333333333333333,
             "#9c179e"
            ],
            [
             0.4444444444444444,
             "#bd3786"
            ],
            [
             0.5555555555555556,
             "#d8576b"
            ],
            [
             0.6666666666666666,
             "#ed7953"
            ],
            [
             0.7777777777777778,
             "#fb9f3a"
            ],
            [
             0.8888888888888888,
             "#fdca26"
            ],
            [
             1,
             "#f0f921"
            ]
           ]
          },
          "colorway": [
           "#636efa",
           "#EF553B",
           "#00cc96",
           "#ab63fa",
           "#FFA15A",
           "#19d3f3",
           "#FF6692",
           "#B6E880",
           "#FF97FF",
           "#FECB52"
          ],
          "font": {
           "color": "#2a3f5f"
          },
          "geo": {
           "bgcolor": "white",
           "lakecolor": "white",
           "landcolor": "#E5ECF6",
           "showlakes": true,
           "showland": true,
           "subunitcolor": "white"
          },
          "hoverlabel": {
           "align": "left"
          },
          "hovermode": "closest",
          "mapbox": {
           "style": "light"
          },
          "paper_bgcolor": "white",
          "plot_bgcolor": "#E5ECF6",
          "polar": {
           "angularaxis": {
            "gridcolor": "white",
            "linecolor": "white",
            "ticks": ""
           },
           "bgcolor": "#E5ECF6",
           "radialaxis": {
            "gridcolor": "white",
            "linecolor": "white",
            "ticks": ""
           }
          },
          "scene": {
           "xaxis": {
            "backgroundcolor": "#E5ECF6",
            "gridcolor": "white",
            "gridwidth": 2,
            "linecolor": "white",
            "showbackground": true,
            "ticks": "",
            "zerolinecolor": "white"
           },
           "yaxis": {
            "backgroundcolor": "#E5ECF6",
            "gridcolor": "white",
            "gridwidth": 2,
            "linecolor": "white",
            "showbackground": true,
            "ticks": "",
            "zerolinecolor": "white"
           },
           "zaxis": {
            "backgroundcolor": "#E5ECF6",
            "gridcolor": "white",
            "gridwidth": 2,
            "linecolor": "white",
            "showbackground": true,
            "ticks": "",
            "zerolinecolor": "white"
           }
          },
          "shapedefaults": {
           "line": {
            "color": "#2a3f5f"
           }
          },
          "ternary": {
           "aaxis": {
            "gridcolor": "white",
            "linecolor": "white",
            "ticks": ""
           },
           "baxis": {
            "gridcolor": "white",
            "linecolor": "white",
            "ticks": ""
           },
           "bgcolor": "#E5ECF6",
           "caxis": {
            "gridcolor": "white",
            "linecolor": "white",
            "ticks": ""
           }
          },
          "title": {
           "x": 0.05
          },
          "xaxis": {
           "automargin": true,
           "gridcolor": "white",
           "linecolor": "white",
           "ticks": "",
           "title": {
            "standoff": 15
           },
           "zerolinecolor": "white",
           "zerolinewidth": 2
          },
          "yaxis": {
           "automargin": true,
           "gridcolor": "white",
           "linecolor": "white",
           "ticks": "",
           "title": {
            "standoff": 15
           },
           "zerolinecolor": "white",
           "zerolinewidth": 2
          }
         }
        }
       }
      }
     },
     "metadata": {},
     "output_type": "display_data"
    }
   ],
   "source": [
    "# colab 출력을 위한 부분\n",
    "fig[call[0]]\n"
   ]
  },
  {
   "cell_type": "code",
   "execution_count": null,
   "metadata": {},
   "outputs": [],
   "source": [
    "fig[call[1]]"
   ]
  },
  {
   "cell_type": "code",
   "execution_count": null,
   "metadata": {},
   "outputs": [],
   "source": [
    "fig[call[2]]"
   ]
  },
  {
   "cell_type": "code",
   "execution_count": null,
   "metadata": {},
   "outputs": [],
   "source": [
    "import plotly.express as px\n",
    "import chart_studio\n",
    "import chart_studio.plotly as py\n",
    "import chart_studio.tools as tls"
   ]
  },
  {
   "cell_type": "code",
   "execution_count": null,
   "metadata": {},
   "outputs": [],
   "source": [
    "username = '815choyunsin'\n",
    "api_key = 'AX35ZFK83sqMoQ7QxKTZ'\n",
    "chart_studio.tools.set_credentials_file(username=username, api_key=api_key)"
   ]
  },
  {
   "cell_type": "code",
   "execution_count": null,
   "metadata": {},
   "outputs": [
    {
     "data": {
      "text/plain": [
       "'https://plotly.com/~815choyunsin/1/'"
      ]
     },
     "execution_count": 18,
     "metadata": {},
     "output_type": "execute_result"
    }
   ],
   "source": [
    "py.plot(fig[call[0]], filename = 'image 1', auto_open=True)"
   ]
  },
  {
   "cell_type": "code",
   "execution_count": null,
   "metadata": {},
   "outputs": [
    {
     "data": {
      "text/plain": [
       "'https://plotly.com/~815choyunsin/3/'"
      ]
     },
     "execution_count": 19,
     "metadata": {},
     "output_type": "execute_result"
    }
   ],
   "source": [
    "py.plot(fig[call[1]], filename = 'image 2', auto_open=True)"
   ]
  },
  {
   "cell_type": "code",
   "execution_count": null,
   "metadata": {},
   "outputs": [
    {
     "data": {
      "text/plain": [
       "'https://plotly.com/~815choyunsin/5/'"
      ]
     },
     "execution_count": 20,
     "metadata": {},
     "output_type": "execute_result"
    }
   ],
   "source": [
    "py.plot(fig[call[2]], filename = 'image 3', auto_open=True)"
   ]
  },
  {
   "cell_type": "code",
   "execution_count": null,
   "metadata": {},
   "outputs": [
    {
     "data": {
      "text/plain": [
       "'https://plotly.com/~815choyunsin/7/'"
      ]
     },
     "execution_count": 21,
     "metadata": {},
     "output_type": "execute_result"
    }
   ],
   "source": [
    "py.plot(fig[call[3]], filename = 'image 4', auto_open=True)"
   ]
  },
  {
   "cell_type": "code",
   "execution_count": null,
   "metadata": {},
   "outputs": [
    {
     "data": {
      "text/plain": [
       "'<iframe id=\"igraph\" scrolling=\"no\" style=\"border:none;\" seamless=\"seamless\" src=\"https://plotly.com/~815choyunsin/1.embed\" height=\"525\" width=\"100%\"></iframe>'"
      ]
     },
     "execution_count": 22,
     "metadata": {},
     "output_type": "execute_result"
    }
   ],
   "source": [
    "tls.get_embed('https://plotly.com/~815choyunsin/1/')"
   ]
  },
  {
   "cell_type": "code",
   "execution_count": null,
   "metadata": {},
   "outputs": [],
   "source": []
  }
 ],
 "metadata": {
  "kernelspec": {
   "display_name": "Python 3.8.13 ('DL-Torch')",
   "language": "python",
   "name": "python3"
  },
  "language_info": {
   "codemirror_mode": {
    "name": "ipython",
    "version": 3
   },
   "file_extension": ".py",
   "mimetype": "text/x-python",
   "name": "python",
   "nbconvert_exporter": "python",
   "pygments_lexer": "ipython3",
   "version": "3.8.13"
  },
  "orig_nbformat": 4,
  "vscode": {
   "interpreter": {
    "hash": "3a74ef3406efe94cf672166f399b401c775b8bbbc7f533a8273159d2b96f559a"
   }
  }
 },
 "nbformat": 4,
 "nbformat_minor": 2
}
